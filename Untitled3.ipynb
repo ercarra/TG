{
 "cells": [
  {
   "cell_type": "code",
   "execution_count": 13,
   "metadata": {},
   "outputs": [],
   "source": [
    "from docplex.mp.model import Model\n",
    "nodos=4\n",
    "tamRutas=2**nodos \n",
    "b=[]\n",
    "aux=[]\n",
    "for i in range(nodos):\n",
    "     aux.append(0) \n",
    "for i in range(nodos):\n",
    "     b.append(aux[:])  \n",
    "aux=1        \n",
    "for i in range(nodos):\n",
    "    for j in range(nodos):\n",
    "        if(i != j):\n",
    "            b[i][j]=50\n",
    "            aux=aux+1\n",
    "c=[]\n",
    "aux=[]\n",
    "for i in range(nodos):\n",
    "     aux.append(0) \n",
    "for i in range(nodos):\n",
    "     c.append(aux[:])  \n",
    "for i in range(nodos):\n",
    "    for j in range(nodos):\n",
    "        if(i != j):\n",
    "            c[i][j]=abs(i-j)*10-abs(i-j)+1 \n",
    "            \n",
    "B2={(o,d,i):0 for o in range(nodos) for d in range(nodos) for i in  range(nodos)}\n",
    "for i in range(nodos):\n",
    "    for j in range(nodos):\n",
    "        B2[i,j,i]=b[i][j]\n",
    "        B2[i,j,j]=-b[i][j]\n",
    "\n",
    "rutas=[(a,b,c,d) for a in range(2)for b in range(2)for c in range(2)for d in range(2)]\n",
    "arcos1=[(k,i,j)for k in range(tamRutas) for i in range( nodos) for j in range(nodos) ]\n",
    "rutasmodificadas=[]\n",
    "\n",
    "rutaaux=[]\n",
    "\n",
    "for i in range(tamRutas):\n",
    "   rutaaux.clear() \n",
    "   for j in range(nodos):\n",
    "        if rutas[i][j] == 1:\n",
    "            rutaaux.append(j)          \n",
    "   rutasmodificadas.append(rutaaux[:])  \n",
    "\n",
    "\n",
    "r={}\n",
    "for i in arcos1:\n",
    "    r[i]=0\n",
    "for i in range(tamRutas):\n",
    "    for j in range(len(rutasmodificadas[i])-1):\n",
    "        r[(i,rutasmodificadas[i][j],rutasmodificadas[i][j+1])]=1\n",
    "        r[(i,rutasmodificadas[i][j+1],rutasmodificadas[i][j])]=1\n",
    "  \n"
   ]
  },
  {
   "cell_type": "code",
   "execution_count": 14,
   "metadata": {},
   "outputs": [
    {
     "name": "stdout",
     "output_type": "stream",
     "text": [
      "Version identifier: 20.1.0.0 | 2020-11-10 | 9bedb6d68\n",
      "CPXPARAM_Read_DataCheck                          1\n",
      "Tried aggregator 1 time.\n",
      "LP Presolve eliminated 4 rows and 69 columns.\n",
      "Reduced LP has 77 rows, 203 columns, and 621 nonzeros.\n",
      "Presolve time = 0.00 sec. (0.22 ticks)\n",
      "Symmetry aggregator did 162 additional substitutions.\n",
      "\n",
      "Iteration log . . .\n",
      "Iteration:     1   Dual objective     =          1000.000000\n",
      "\n",
      "Dual crossover.\n",
      "  Dual:  Fixing 12 variables.\n",
      "       11 DMoves:  Infeasibility  3.55271368e-14  Objective  9.73333333e+03\n",
      "        0 DMoves:  Infeasibility  3.55271368e-14  Objective  9.73333333e+03\n",
      "  Dual:  Pushed 2, exchanged 10.\n",
      "  Primal:  Fixed no variables.\n"
     ]
    }
   ],
   "source": [
    "\n",
    "from docplex.mp.model import Model\n",
    "mdl= Model(\"modelo\")\n",
    "arcos=[(i,j,o,d) for i in range(nodos)for j in range(nodos)for o in range(nodos)for d in range(nodos)]\n",
    "x=mdl.continuous_var_dict(arcos,name=\"x\")\n",
    "arcos2=[(i) for i in range (tamRutas)]\n",
    "f=mdl.continuous_var_dict(arcos2,name=\"f\")\n",
    "\n",
    "u= 90\n",
    "m= 35\n",
    "Q= 50\n",
    "alpha=60\n",
    "\n",
    "mdl.minimize(mdl.sum(c[i][j]*x[(i,j,o,d)] for i in range(nodos)for j in range(nodos)for o in range(nodos)for d in range(nodos))+mdl.sum(alpha*(f[(i)])for i in range(tamRutas)))\n",
    " \n",
    "\n",
    "    \n",
    "for i in  range(nodos):\n",
    "    for j in range(nodos):\n",
    "        mdl.add_constraint(mdl.sum(x[(i,j,o,d)] for o in range(nodos)for d in range(nodos))<= mdl.sum(r[(k,i,j)]*f[(k)]*u for k in range(tamRutas)))\n",
    "\n",
    "for i in range(nodos):  \n",
    "    for o in range(nodos):\n",
    "        for d in range(nodos):       \n",
    "            mdl.add_constraint((mdl.sum(x[(i,j,o,d) ] for j in range(nodos) )-mdl.sum(x[(j,i,o,d) ] for j in range(nodos) ) )==B2[(o,d,i)])\n",
    "\n",
    "\n",
    "mdl.add_constraint(mdl.sum(f[(k)]for k in range(tamRutas))<=Q) \n",
    "solucion=mdl.solve(log_output=True)"
   ]
  },
  {
   "cell_type": "code",
   "execution_count": 15,
   "metadata": {},
   "outputs": [
    {
     "name": "stdout",
     "output_type": "stream",
     "text": [
      "Version identifier: 20.1.0.0 | 2020-11-10 | 9bedb6d68\n",
      "CPXPARAM_Read_DataCheck                          1\n"
     ]
    }
   ],
   "source": [
    "solucion=mdl.solve(log_output=True)  \n",
    "archivo = open(\"prueba2.txt\", \"w\") \n",
    "archivo.write(str(solucion)) \n",
    "archivo.close()\n",
    "#m=9      "
   ]
  },
  {
   "cell_type": "code",
   "execution_count": null,
   "metadata": {},
   "outputs": [],
   "source": []
  }
 ],
 "metadata": {
  "kernelspec": {
   "display_name": "Python 3",
   "language": "python",
   "name": "python3"
  },
  "language_info": {
   "codemirror_mode": {
    "name": "ipython",
    "version": 3
   },
   "file_extension": ".py",
   "mimetype": "text/x-python",
   "name": "python",
   "nbconvert_exporter": "python",
   "pygments_lexer": "ipython3",
   "version": "3.8.5"
  }
 },
 "nbformat": 4,
 "nbformat_minor": 4
}
