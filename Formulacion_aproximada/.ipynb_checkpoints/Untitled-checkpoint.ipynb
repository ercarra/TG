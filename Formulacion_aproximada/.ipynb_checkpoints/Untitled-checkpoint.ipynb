{
 "cells": [
  {
   "cell_type": "code",
   "execution_count": 5,
   "metadata": {},
   "outputs": [
    {
     "name": "stdout",
     "output_type": "stream",
     "text": [
      "4\n"
     ]
    }
   ],
   "source": [
    "\n"
   ]
  },
  {
   "cell_type": "code",
   "execution_count": 26,
   "metadata": {},
   "outputs": [],
   "source": [
    "b=[]\n",
    "aux=[]\n",
    "#parametros\n",
    "nodos=[1,2,3]\n",
    "rutas=[(1,1,0),(0,1,1)]\n",
    "numNodos=len(nodos)\n",
    "numRutas=len(rutas)\n",
    "\n",
    "#contruir b\n",
    "for i in range(numNodos):\n",
    "     aux.append(0) \n",
    "for i in range(numNodos):\n",
    "     b.append(aux[:])  \n",
    "aux=1        \n",
    "for i in range(numNodos):\n",
    "    for j in range(numNodos):\n",
    "        if(i != j):\n",
    "            b[i][j]=50\n",
    "            aux=aux+1\n",
    "c=[]\n",
    "aux=[]\n",
    "for i in range(numNodos):\n",
    "     aux.append(0) \n",
    "for i in range(numNodos):\n",
    "     c.append(aux[:])  \n",
    "for i in range(numNodos):\n",
    "    for j in range(numNodos):\n",
    "        if(i != j):\n",
    "            c[i][j]=abs(i-j)*10-abs(i-j)+1 \n",
    "            \n",
    "B2={(o,d,i):0 for o in range(numNodos) for d in range(numNodos) for i in  range(numNodos)}\n",
    "for i in range(numNodos):\n",
    "    for j in range(numNodos):\n",
    "        B2[i,j,i]=b[i][j]\n",
    "        B2[i,j,j]=-b[i][j]\n",
    "\n",
    "\n",
    "arcos1=[(k,i,j)for k in range(numRutas) for i in range(numNodos) for j in range(numNodos) ]\n",
    "rutasmodificadas=[]\n",
    "rutaaux=[]\n",
    "for i in range(numRutas):\n",
    "   rutaaux.clear() \n",
    "   for j in range(numNodos):\n",
    "        if rutas[i][j] == 1:\n",
    "            rutaaux.append(j)          \n",
    "   rutasmodificadas.append(rutaaux[:])  \n",
    "\n",
    "#creacion parametro rkij\n",
    "r={}\n",
    "for i in arcos1:\n",
    "    r[i]=0\n",
    "for i in range(numRutas):\n",
    "    for j in range(len(rutasmodificadas[i])-1):\n",
    "        r[(i,rutasmodificadas[i][j],rutasmodificadas[i][j+1])]=1\n",
    "        r[(i,rutasmodificadas[i][j+1],rutasmodificadas[i][j])]=1\n",
    "#-------------------------\n",
    "        \n",
    "arcosX=[(i,j,o,d) for i in range(numNodos)for j in range(numNodos)for o in range(numNodos)for d in range(numNodos)]\n",
    "arcosY=[(i) for i in range (numRutas)]\n",
    "u= 100\n",
    "m= 40\n",
    "Q= 50\n",
    "alpha=600"
   ]
  },
  {
   "cell_type": "code",
   "execution_count": 32,
   "metadata": {},
   "outputs": [
    {
     "name": "stdout",
     "output_type": "stream",
     "text": [
      "Version identifier: 20.1.0.0 | 2020-11-10 | 9bedb6d68\n",
      "CPXPARAM_Read_DataCheck                          1\n",
      "Tried aggregator 1 time.\n",
      "MIP Presolve eliminated 37 rows and 83 columns.\n",
      "All rows and columns eliminated.\n",
      "Presolve time = 0.00 sec. (0.04 ticks)\n",
      "\n",
      "Root node processing (before b&c):\n",
      "  Real time             =    0.00 sec. (0.05 ticks)\n",
      "Parallel b&c, 24 threads:\n",
      "  Real time             =    0.00 sec. (0.00 ticks)\n",
      "  Sync time (average)   =    0.00 sec.\n",
      "  Wait time (average)   =    0.00 sec.\n",
      "                          ------------\n",
      "Total (root+branch&cut) =    0.00 sec. (0.05 ticks)\n",
      "* model BRT solved with objective = 5200.000\n"
     ]
    }
   ],
   "source": [
    "\n",
    "from docplex.mp.model import Model\n",
    "\n",
    "\n",
    "mdl= Model(\"BRT\")\n",
    "#creacion variables de desicion\n",
    "x=mdl.continuous_var_dict(arcosX,name=\"x\")\n",
    "y=mdl.continuous_var_dict(arcosY,name=\"y\")\n",
    "\n",
    "\n",
    " # funcion a minimizar\n",
    "costoX=mdl.sum(c[i][j]*x[(i,j,o,d)]for i in range(numNodos) for j in range(numNodos)for o in range(numNodos)for d in range(numNodos))   \n",
    "costoY=mdl.sum(alpha*(y[i])for i in range(numRutas))\n",
    "obj=mdl.minimize(costoX+costoY)\n",
    "\n",
    "\n",
    "\n",
    "#capacidad  \n",
    "capacidad=[]\n",
    "for i in  range(numNodos):\n",
    "    capacidadAux=[]\n",
    "    for j in range(numNodos):        \n",
    "        capacidadAux=mdl.add_constraint(mdl.sum(x[(i,j,o,d)] for o in range(numNodos)for d in range(numNodos))<= mdl.sum(r[(k,i,j)]*y[(k)]*u for k in range(numRutas)))\n",
    "    capacidad.append(capacidadAux)\n",
    "    \n",
    "#flujo\n",
    "for i in range(numNodos):  \n",
    "    for o in range(numNodos):\n",
    "        for d in range(numNodos):       \n",
    "            mdl.add_constraint((mdl.sum(x[(i,j,o,d) ] for j in range(numNodos) )-mdl.sum(x[(j,i,o,d) ] for j in range(numNodos) ) )==B2[(o,d,i)])\n",
    "#maximo rutas\n",
    " \n",
    "sumaRutas= mdl.sum(y[(k)]for k in range(numRutas))\n",
    "mdl.add_constraint(sumaRutas<=m)  \n",
    "\n",
    "\n",
    "mdl.solve(log_output=True)\n",
    "mdl.report()\n",
    "\n",
    "\n",
    "\n",
    "\n",
    "\n",
    "\n"
   ]
  },
  {
   "cell_type": "code",
   "execution_count": 33,
   "metadata": {},
   "outputs": [
    {
     "ename": "DOcplexException",
     "evalue": "dual values are not available for integer problems",
     "output_type": "error",
     "traceback": [
      "\u001b[1;31m---------------------------------------------------------------------------\u001b[0m",
      "\u001b[1;31mDOcplexException\u001b[0m                          Traceback (most recent call last)",
      "\u001b[1;32m<ipython-input-33-c804099f5fb5>\u001b[0m in \u001b[0;36m<module>\u001b[1;34m\u001b[0m\n\u001b[1;32m----> 1\u001b[1;33m \u001b[0mduals\u001b[0m \u001b[1;33m=\u001b[0m \u001b[0mmdl\u001b[0m\u001b[1;33m.\u001b[0m\u001b[0mdual_values\u001b[0m\u001b[1;33m(\u001b[0m\u001b[0mcapacidad\u001b[0m\u001b[1;33m)\u001b[0m\u001b[1;33m\u001b[0m\u001b[1;33m\u001b[0m\u001b[0m\n\u001b[0m\u001b[0;32m      2\u001b[0m \u001b[0mprint\u001b[0m\u001b[1;33m(\u001b[0m\u001b[0mduals\u001b[0m\u001b[1;33m)\u001b[0m\u001b[1;33m\u001b[0m\u001b[1;33m\u001b[0m\u001b[0m\n\u001b[0;32m      3\u001b[0m \u001b[1;33m\u001b[0m\u001b[0m\n",
      "\u001b[1;32m~\\anaconda3\\lib\\site-packages\\docplex\\mp\\model.py\u001b[0m in \u001b[0;36mdual_values\u001b[1;34m(self, cts)\u001b[0m\n\u001b[0;32m   5517\u001b[0m         \u001b[1;33m:\u001b[0m\u001b[1;32mreturn\u001b[0m\u001b[1;33m:\u001b[0m \u001b[0ma\u001b[0m \u001b[0msequence\u001b[0m \u001b[0mof\u001b[0m \u001b[0mfloat\u001b[0m \u001b[0mnumbers\u001b[0m\u001b[1;33m\u001b[0m\u001b[1;33m\u001b[0m\u001b[0m\n\u001b[0;32m   5518\u001b[0m         \"\"\"\n\u001b[1;32m-> 5519\u001b[1;33m         \u001b[0mself\u001b[0m\u001b[1;33m.\u001b[0m\u001b[0m_check_problem_type\u001b[0m\u001b[1;33m(\u001b[0m\u001b[0mfeature\u001b[0m\u001b[1;33m=\u001b[0m\u001b[1;34m'dual values'\u001b[0m\u001b[1;33m)\u001b[0m\u001b[1;33m\u001b[0m\u001b[1;33m\u001b[0m\u001b[0m\n\u001b[0m\u001b[0;32m   5520\u001b[0m         \u001b[0mchecked_lcts\u001b[0m \u001b[1;33m=\u001b[0m \u001b[0mself\u001b[0m\u001b[1;33m.\u001b[0m\u001b[0m_checker\u001b[0m\u001b[1;33m.\u001b[0m\u001b[0mtypecheck_constraint_seq\u001b[0m\u001b[1;33m(\u001b[0m\u001b[0mcts\u001b[0m\u001b[1;33m,\u001b[0m \u001b[0mcheck_linear\u001b[0m\u001b[1;33m=\u001b[0m\u001b[1;32mTrue\u001b[0m\u001b[1;33m)\u001b[0m\u001b[1;33m\u001b[0m\u001b[1;33m\u001b[0m\u001b[0m\n\u001b[0;32m   5521\u001b[0m         \u001b[1;32mreturn\u001b[0m \u001b[0mself\u001b[0m\u001b[1;33m.\u001b[0m\u001b[0m_dual_values\u001b[0m\u001b[1;33m(\u001b[0m\u001b[0mchecked_lcts\u001b[0m\u001b[1;33m)\u001b[0m\u001b[1;33m\u001b[0m\u001b[1;33m\u001b[0m\u001b[0m\n",
      "\u001b[1;32m~\\anaconda3\\lib\\site-packages\\docplex\\mp\\model.py\u001b[0m in \u001b[0;36m_check_problem_type\u001b[1;34m(self, feature, requires_solution, accept_qxp)\u001b[0m\n\u001b[0;32m   5498\u001b[0m             \u001b[0mself\u001b[0m\u001b[1;33m.\u001b[0m\u001b[0mfatal\u001b[0m\u001b[1;33m(\u001b[0m\u001b[1;34m'{0} are not available for QP/QCP problems'\u001b[0m\u001b[1;33m.\u001b[0m\u001b[0mformat\u001b[0m\u001b[1;33m(\u001b[0m\u001b[0mfeature\u001b[0m\u001b[1;33m)\u001b[0m\u001b[1;33m)\u001b[0m\u001b[1;33m\u001b[0m\u001b[1;33m\u001b[0m\u001b[0m\n\u001b[0;32m   5499\u001b[0m         \u001b[1;32melif\u001b[0m \u001b[0mself\u001b[0m\u001b[1;33m.\u001b[0m\u001b[0m_solved_as_mip\u001b[0m\u001b[1;33m(\u001b[0m\u001b[1;33m)\u001b[0m\u001b[1;33m:\u001b[0m\u001b[1;33m\u001b[0m\u001b[1;33m\u001b[0m\u001b[0m\n\u001b[1;32m-> 5500\u001b[1;33m             \u001b[0mself\u001b[0m\u001b[1;33m.\u001b[0m\u001b[0mfatal\u001b[0m\u001b[1;33m(\u001b[0m\u001b[1;34m'{0} are not available for integer problems'\u001b[0m\u001b[1;33m.\u001b[0m\u001b[0mformat\u001b[0m\u001b[1;33m(\u001b[0m\u001b[0mfeature\u001b[0m\u001b[1;33m)\u001b[0m\u001b[1;33m)\u001b[0m\u001b[1;33m\u001b[0m\u001b[1;33m\u001b[0m\u001b[0m\n\u001b[0m\u001b[0;32m   5501\u001b[0m \u001b[1;33m\u001b[0m\u001b[0m\n\u001b[0;32m   5502\u001b[0m     \u001b[1;32mdef\u001b[0m \u001b[0m_dual_value1\u001b[0m\u001b[1;33m(\u001b[0m\u001b[0mself\u001b[0m\u001b[1;33m,\u001b[0m \u001b[0mlinear_ct\u001b[0m\u001b[1;33m)\u001b[0m\u001b[1;33m:\u001b[0m\u001b[1;33m\u001b[0m\u001b[1;33m\u001b[0m\u001b[0m\n",
      "\u001b[1;32m~\\anaconda3\\lib\\site-packages\\docplex\\mp\\model.py\u001b[0m in \u001b[0;36mfatal\u001b[1;34m(self, msg, *args)\u001b[0m\n\u001b[0;32m    970\u001b[0m \u001b[1;33m\u001b[0m\u001b[0m\n\u001b[0;32m    971\u001b[0m     \u001b[1;32mdef\u001b[0m \u001b[0mfatal\u001b[0m\u001b[1;33m(\u001b[0m\u001b[0mself\u001b[0m\u001b[1;33m,\u001b[0m \u001b[0mmsg\u001b[0m\u001b[1;33m,\u001b[0m \u001b[1;33m*\u001b[0m\u001b[0margs\u001b[0m\u001b[1;33m)\u001b[0m\u001b[1;33m:\u001b[0m\u001b[1;33m\u001b[0m\u001b[1;33m\u001b[0m\u001b[0m\n\u001b[1;32m--> 972\u001b[1;33m         \u001b[0mself\u001b[0m\u001b[1;33m.\u001b[0m\u001b[0m_error_handler\u001b[0m\u001b[1;33m.\u001b[0m\u001b[0mfatal\u001b[0m\u001b[1;33m(\u001b[0m\u001b[0mmsg\u001b[0m\u001b[1;33m,\u001b[0m \u001b[0margs\u001b[0m\u001b[1;33m)\u001b[0m\u001b[1;33m\u001b[0m\u001b[1;33m\u001b[0m\u001b[0m\n\u001b[0m\u001b[0;32m    973\u001b[0m \u001b[1;33m\u001b[0m\u001b[0m\n\u001b[0;32m    974\u001b[0m     \u001b[1;32mdef\u001b[0m \u001b[0mfatal_ce_limits\u001b[0m\u001b[1;33m(\u001b[0m\u001b[0mself\u001b[0m\u001b[1;33m,\u001b[0m \u001b[1;33m*\u001b[0m\u001b[0margs\u001b[0m\u001b[1;33m)\u001b[0m\u001b[1;33m:\u001b[0m\u001b[1;33m\u001b[0m\u001b[1;33m\u001b[0m\u001b[0m\n",
      "\u001b[1;32m~\\anaconda3\\lib\\site-packages\\docplex\\mp\\error_handler.py\u001b[0m in \u001b[0;36mfatal\u001b[1;34m(self, msg, args)\u001b[0m\n\u001b[0;32m    209\u001b[0m         \u001b[0mresolved_message\u001b[0m \u001b[1;33m=\u001b[0m \u001b[0mresolve_pattern\u001b[0m\u001b[1;33m(\u001b[0m\u001b[0mmsg\u001b[0m\u001b[1;33m,\u001b[0m \u001b[0margs\u001b[0m\u001b[1;33m)\u001b[0m\u001b[1;33m\u001b[0m\u001b[1;33m\u001b[0m\u001b[0m\n\u001b[0;32m    210\u001b[0m         \u001b[0mdocplex_error_stop_here\u001b[0m\u001b[1;33m(\u001b[0m\u001b[1;33m)\u001b[0m\u001b[1;33m\u001b[0m\u001b[1;33m\u001b[0m\u001b[0m\n\u001b[1;32m--> 211\u001b[1;33m         \u001b[1;32mraise\u001b[0m \u001b[0mDOcplexException\u001b[0m\u001b[1;33m(\u001b[0m\u001b[0mresolved_message\u001b[0m\u001b[1;33m)\u001b[0m\u001b[1;33m\u001b[0m\u001b[1;33m\u001b[0m\u001b[0m\n\u001b[0m\u001b[0;32m    212\u001b[0m \u001b[1;33m\u001b[0m\u001b[0m\n\u001b[0;32m    213\u001b[0m     \u001b[1;32mdef\u001b[0m \u001b[0mfatal_limits_exceeded\u001b[0m\u001b[1;33m(\u001b[0m\u001b[0mself\u001b[0m\u001b[1;33m)\u001b[0m\u001b[1;33m:\u001b[0m\u001b[1;33m\u001b[0m\u001b[1;33m\u001b[0m\u001b[0m\n",
      "\u001b[1;31mDOcplexException\u001b[0m: dual values are not available for integer problems"
     ]
    }
   ],
   "source": [
    "duals = mdl.dual_values(capacidad)\n",
    "print(duals)\n",
    "        "
   ]
  },
  {
   "cell_type": "code",
   "execution_count": 17,
   "metadata": {},
   "outputs": [
    {
     "name": "stdout",
     "output_type": "stream",
     "text": [
      " ruta  : (1, 1, 0)\n",
      " ruta  : (0, 1, 1)\n"
     ]
    }
   ],
   "source": [
    "\n",
    "for i in range(numRutas):\n",
    "    if(y[i].solution_value):\n",
    "        print(f\" ruta  : {rutas[i]}\")"
   ]
  },
  {
   "cell_type": "code",
   "execution_count": 21,
   "metadata": {},
   "outputs": [
    {
     "ename": "NameError",
     "evalue": "name 'items' is not defined",
     "output_type": "error",
     "traceback": [
      "\u001b[1;31m---------------------------------------------------------------------------\u001b[0m",
      "\u001b[1;31mNameError\u001b[0m                                 Traceback (most recent call last)",
      "\u001b[1;32m<ipython-input-21-2d0e1ccb04f5>\u001b[0m in \u001b[0;36m<module>\u001b[1;34m\u001b[0m\n\u001b[0;32m      1\u001b[0m \u001b[1;32mfrom\u001b[0m \u001b[0mdocplex\u001b[0m\u001b[1;33m.\u001b[0m\u001b[0mmp\u001b[0m\u001b[1;33m.\u001b[0m\u001b[0mmodel\u001b[0m \u001b[1;32mimport\u001b[0m \u001b[0mModel\u001b[0m\u001b[1;33m\u001b[0m\u001b[1;33m\u001b[0m\u001b[0m\n\u001b[0;32m      2\u001b[0m \u001b[0mmaster_mdl\u001b[0m \u001b[1;33m=\u001b[0m \u001b[0mModel\u001b[0m\u001b[1;33m(\u001b[0m\u001b[1;34m'Master-Cutstock'\u001b[0m\u001b[1;33m)\u001b[0m\u001b[1;33m\u001b[0m\u001b[1;33m\u001b[0m\u001b[0m\n\u001b[1;32m----> 3\u001b[1;33m \u001b[0mdummy_vars\u001b[0m \u001b[1;33m=\u001b[0m \u001b[0mmaster_mdl\u001b[0m\u001b[1;33m.\u001b[0m\u001b[0mcontinuous_var_dict\u001b[0m\u001b[1;33m(\u001b[0m\u001b[0mitems\u001b[0m\u001b[1;33m,\u001b[0m \u001b[0mlb\u001b[0m\u001b[1;33m=\u001b[0m\u001b[1;36m0\u001b[0m\u001b[1;33m,\u001b[0m \u001b[0mub\u001b[0m\u001b[1;33m=\u001b[0m\u001b[0mmax_cut\u001b[0m\u001b[1;33m,\u001b[0m \u001b[0mname\u001b[0m\u001b[1;33m=\u001b[0m\u001b[1;34m\"dummy_cut\"\u001b[0m\u001b[1;33m)\u001b[0m\u001b[1;33m\u001b[0m\u001b[1;33m\u001b[0m\u001b[0m\n\u001b[0m\u001b[0;32m      4\u001b[0m \u001b[0mcost\u001b[0m \u001b[1;33m=\u001b[0m \u001b[0mmaster_mdl\u001b[0m\u001b[1;33m.\u001b[0m\u001b[0msum\u001b[0m\u001b[1;33m(\u001b[0m \u001b[1;36m1000\u001b[0m\u001b[1;33m*\u001b[0m\u001b[0mdummy_vars\u001b[0m\u001b[1;33m[\u001b[0m\u001b[0mi\u001b[0m\u001b[1;33m]\u001b[0m \u001b[1;32mfor\u001b[0m \u001b[0mi\u001b[0m \u001b[1;32min\u001b[0m \u001b[0mitems\u001b[0m\u001b[1;33m)\u001b[0m\u001b[1;33m\u001b[0m\u001b[1;33m\u001b[0m\u001b[0m\n\u001b[0;32m      5\u001b[0m \u001b[0mobj\u001b[0m \u001b[1;33m=\u001b[0m \u001b[0mmaster_mdl\u001b[0m\u001b[1;33m.\u001b[0m\u001b[0mminimize\u001b[0m\u001b[1;33m(\u001b[0m \u001b[0mcost\u001b[0m \u001b[1;33m)\u001b[0m\u001b[1;33m\u001b[0m\u001b[1;33m\u001b[0m\u001b[0m\n",
      "\u001b[1;31mNameError\u001b[0m: name 'items' is not defined"
     ]
    }
   ],
   "source": [
    "item_sizes = [20, 45, 50, 55, 75]\n",
    "item_demands = [48, 35, 24, 10, 8]\n",
    "roll_width = 110"
   ]
  },
  {
   "cell_type": "code",
   "execution_count": null,
   "metadata": {},
   "outputs": [],
   "source": [
    "from docplex.mp.model import Model\n",
    "master_mdl = Model('Master-Cutstock')\n",
    "dummy_vars = master_mdl.continuous_var_dict(items, lb=0, ub=max_cut, name=\"dummy_cut\")\n",
    "cost = master_mdl.sum( 1000*dummy_vars[i] for i in items)\n",
    "obj = master_mdl.minimize( cost )\n",
    "cts = master_mdl.add_constraints( dummy_vars[i]>= item_demands[i] for i in items)\n",
    "master_mdl.solve()\n",
    "master_mdl.report()"
   ]
  },
  {
   "cell_type": "code",
   "execution_count": 24,
   "metadata": {},
   "outputs": [
    {
     "ename": "SyntaxError",
     "evalue": "invalid syntax (<ipython-input-24-81123195a119>, line 1)",
     "output_type": "error",
     "traceback": [
      "\u001b[1;36m  File \u001b[1;32m\"<ipython-input-24-81123195a119>\"\u001b[1;36m, line \u001b[1;32m1\u001b[0m\n\u001b[1;33m    for (i,j) in range(5)\u001b[0m\n\u001b[1;37m                         ^\u001b[0m\n\u001b[1;31mSyntaxError\u001b[0m\u001b[1;31m:\u001b[0m invalid syntax\n"
     ]
    }
   ],
   "source": [
    "for (i,j) in range(5)\n",
    "    print(i,j)"
   ]
  },
  {
   "cell_type": "code",
   "execution_count": null,
   "metadata": {},
   "outputs": [],
   "source": []
  }
 ],
 "metadata": {
  "kernelspec": {
   "display_name": "Python 3",
   "language": "python",
   "name": "python3"
  },
  "language_info": {
   "codemirror_mode": {
    "name": "ipython",
    "version": 3
   },
   "file_extension": ".py",
   "mimetype": "text/x-python",
   "name": "python",
   "nbconvert_exporter": "python",
   "pygments_lexer": "ipython3",
   "version": "3.8.5"
  }
 },
 "nbformat": 4,
 "nbformat_minor": 4
}
