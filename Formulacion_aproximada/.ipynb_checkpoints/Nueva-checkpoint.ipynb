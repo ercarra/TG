{
 "cells": [
  {
   "cell_type": "code",
   "execution_count": 1,
   "metadata": {},
   "outputs": [],
   "source": [
    "from docplex.mp.model import Model\n"
   ]
  },
  {
   "cell_type": "code",
   "execution_count": 3,
   "metadata": {},
   "outputs": [],
   "source": [
    "nodos=4\n",
    "\n",
    "b=[]\n",
    "aux=[]\n",
    "for i in range(nodos):\n",
    "     aux.append(0) \n",
    "for i in range(nodos):\n",
    "     b.append(aux[:])  \n",
    "aux=1        \n",
    "for i in range(nodos):\n",
    "    for j in range(nodos):\n",
    "        if(i != j):\n",
    "            b[i][j]=50\n",
    "            aux=aux+1\n",
    "c=[]\n",
    "aux=[]\n",
    "for i in range(nodos):\n",
    "     aux.append(0) \n",
    "for i in range(nodos):\n",
    "     c.append(aux[:])  \n",
    "for i in range(nodos):\n",
    "    for j in range(nodos):\n",
    "        if(i != j):\n",
    "            c[i][j]=abs(i-j)*10-abs(i-j)+1 \n",
    "            \n",
    "B2={(o,d,i):0 for o in range(nodos) for d in range(nodos) for i in  range(nodos)}\n",
    "for i in range(nodos):\n",
    "    for j in range(nodos):\n",
    "        B2[i,j,i]=b[i][j]\n",
    "        B2[i,j,j]=-b[i][j]\n",
    "\n",
    "rutas=[(a,b,c,d) for a in range(2)for b in range(2)for c in range(2)for d in range(2)]\n",
    "#rutas=[]\n",
    "#rutas.append((0,1,0,1)) \n",
    "#rutas.append((0,1,1,0)) \n",
    "#rutas.append((1,0,0,1)) \n",
    "#rutas.append((1,0,1,0)) \n",
    "#rutas.append((1,0,1,1)) \n",
    "#rutas.append((1,1,0,1))\n",
    "\n",
    "tamRutas=len(rutas)\n",
    "\n",
    "arcos1=[(k,i,j)for k in range(tamRutas) for i in range( nodos) for j in range(nodos) ]\n",
    "rutasmodificadas=[]\n",
    "\n",
    "rutaaux=[]\n",
    "\n",
    "for i in range(tamRutas):\n",
    "   rutaaux.clear() \n",
    "   for j in range(nodos):\n",
    "        if rutas[i][j] == 1:\n",
    "            rutaaux.append(j)          \n",
    "   rutasmodificadas.append(rutaaux[:])  \n",
    "\n",
    "\n",
    "r={}\n",
    "for i in arcos1:\n",
    "    r[i]=0\n",
    "for i in range(tamRutas):\n",
    "    for j in range(len(rutasmodificadas[i])-1):\n",
    "        r[(i,rutasmodificadas[i][j],rutasmodificadas[i][j+1])]=1\n",
    "        r[(i,rutasmodificadas[i][j+1],rutasmodificadas[i][j])]=1\n",
    "  \n"
   ]
  },
  {
   "cell_type": "code",
   "execution_count": 5,
   "metadata": {},
   "outputs": [
    {
     "name": "stdout",
     "output_type": "stream",
     "text": [
      "Version identifier: 20.1.0.0 | 2020-11-10 | 9bedb6d68\n",
      "CPXPARAM_Read_DataCheck                          1\n",
      "Found incumbent of value 10160.000000 after 0.00 sec. (0.03 ticks)\n",
      "Tried aggregator 1 time.\n",
      "MIP Presolve eliminated 10 rows and 74 columns.\n",
      "Reduced MIP has 88 rows, 214 columns, and 643 nonzeros.\n",
      "Reduced MIP has 11 binaries, 0 generals, 0 SOSs, and 0 indicators.\n",
      "Presolve time = 0.00 sec. (0.26 ticks)\n",
      "Probing time = 0.00 sec. (0.06 ticks)\n",
      "Tried aggregator 1 time.\n",
      "Detecting symmetries...\n",
      "MIP Presolve eliminated 12 rows and 36 columns.\n",
      "Reduced MIP has 76 rows, 178 columns, and 535 nonzeros.\n",
      "Reduced MIP has 11 binaries, 0 generals, 0 SOSs, and 0 indicators.\n",
      "Presolve time = 0.00 sec. (0.45 ticks)\n",
      "Probing time = 0.00 sec. (0.05 ticks)\n",
      "MIP emphasis: balance optimality and feasibility.\n",
      "MIP search method: dynamic search.\n",
      "Parallel mode: deterministic, using up to 24 threads.\n",
      "Root relaxation solution time = 0.00 sec. (0.12 ticks)\n",
      "\n",
      "        Nodes                                         Cuts/\n",
      "   Node  Left     Objective  IInf  Best Integer    Best Bound    ItCnt     Gap\n",
      "\n",
      "*     0+    0                        10160.0000        0.0000           100.00%\n",
      "      0     0     9746.6667     4    10160.0000     9746.6667       40    4.07%\n",
      "*     0+    0                         9973.3333     9746.6667             2.27%\n",
      "      0     0        cutoff           9973.3333                     51    0.00%\n",
      "Elapsed time = 0.03 sec. (1.98 ticks, tree = 0.01 MB, solutions = 2)\n",
      "\n",
      "Flow cuts applied:  1\n",
      "Mixed integer rounding cuts applied:  17\n",
      "Gomory fractional cuts applied:  4\n",
      "\n",
      "Root node processing (before b&c):\n",
      "  Real time             =    0.03 sec. (1.99 ticks)\n",
      "Parallel b&c, 24 threads:\n",
      "  Real time             =    0.00 sec. (0.00 ticks)\n",
      "  Sync time (average)   =    0.00 sec.\n",
      "  Wait time (average)   =    0.00 sec.\n",
      "                          ------------\n",
      "Total (root+branch&cut) =    0.03 sec. (1.99 ticks)\n"
     ]
    }
   ],
   "source": [
    "\n",
    "from docplex.mp.model import Model\n",
    "mdl= Model(\"modelo\")\n",
    "arcos=[(i,j,o,d) for i in range(nodos)for j in range(nodos)for o in range(nodos)for d in range(nodos)]\n",
    "x=mdl.continuous_var_dict(arcos,name=\"x\")\n",
    "arcos2=[(i) for i in range (tamRutas)]\n",
    "y=mdl.binary_var_dict(arcos2,name=\"y\")\n",
    "f=mdl.continuous_var_dict(arcos2,name=\"f\")\n",
    " \n",
    "u= 90\n",
    "m= 30\n",
    "Q= 50\n",
    "alpha=60\n",
    "\n",
    "mdl.minimize(mdl.sum(c[i][j]*x[(i,j,o,d)] for i in range(nodos)for j in range(nodos)for o in range(nodos)for d in range(nodos))+mdl.sum(alpha*(f[(i)]+y[i])for i in range(tamRutas)))\n",
    " \n",
    "\n",
    "    \n",
    "for i in  range(nodos):\n",
    "    for j in range(nodos):\n",
    "        mdl.add_constraint(mdl.sum(x[(i,j,o,d)] for o in range(nodos)for d in range(nodos))<= mdl.sum(r[(k,i,j)]*f[(k)]*u for k in range(tamRutas)))\n",
    "\n",
    "for i in range(nodos):  \n",
    "    for o in range(nodos):\n",
    "        for d in range(nodos):       \n",
    "            mdl.add_constraint((mdl.sum(x[(i,j,o,d) ] for j in range(nodos) )-mdl.sum(x[(j,i,o,d) ] for j in range(nodos) ) )==B2[(o,d,i)])\n",
    "\n",
    "\n",
    "for i in  range(tamRutas):\n",
    "    mdl.add_constraint(f[(i)]<=y[(i)]*10)\n",
    "    \n",
    "mdl.add_constraint(mdl.sum(y[(k)]for k in range(tamRutas))<=m)  \n",
    "mdl.add_constraint(mdl.sum(f[(k)]for k in range(tamRutas))<=Q)   \n",
    "solucion=mdl.solve(log_output=True)"
   ]
  },
  {
   "cell_type": "code",
   "execution_count": 4,
   "metadata": {},
   "outputs": [
    {
     "ename": "NameError",
     "evalue": "name 'mdl' is not defined",
     "output_type": "error",
     "traceback": [
      "\u001b[1;31m---------------------------------------------------------------------------\u001b[0m",
      "\u001b[1;31mNameError\u001b[0m                                 Traceback (most recent call last)",
      "\u001b[1;32m<ipython-input-4-26614c6b6c86>\u001b[0m in \u001b[0;36m<module>\u001b[1;34m\u001b[0m\n\u001b[1;32m----> 1\u001b[1;33m \u001b[0msolucion\u001b[0m\u001b[1;33m=\u001b[0m\u001b[0mmdl\u001b[0m\u001b[1;33m.\u001b[0m\u001b[0msolve\u001b[0m\u001b[1;33m(\u001b[0m\u001b[0mlog_output\u001b[0m\u001b[1;33m=\u001b[0m\u001b[1;32mTrue\u001b[0m\u001b[1;33m)\u001b[0m\u001b[1;33m\u001b[0m\u001b[1;33m\u001b[0m\u001b[0m\n\u001b[0m\u001b[0;32m      2\u001b[0m \u001b[0marchivo\u001b[0m \u001b[1;33m=\u001b[0m \u001b[0mopen\u001b[0m\u001b[1;33m(\u001b[0m\u001b[1;34m\"nuevaExperimento\"\u001b[0m\u001b[1;33m,\u001b[0m \u001b[1;34m\"w\"\u001b[0m\u001b[1;33m)\u001b[0m\u001b[1;33m\u001b[0m\u001b[1;33m\u001b[0m\u001b[0m\n\u001b[0;32m      3\u001b[0m \u001b[0marchivo\u001b[0m\u001b[1;33m.\u001b[0m\u001b[0mwrite\u001b[0m\u001b[1;33m(\u001b[0m\u001b[0mstr\u001b[0m\u001b[1;33m(\u001b[0m\u001b[0msolucion\u001b[0m\u001b[1;33m)\u001b[0m\u001b[1;33m)\u001b[0m\u001b[1;33m\u001b[0m\u001b[1;33m\u001b[0m\u001b[0m\n\u001b[0;32m      4\u001b[0m \u001b[0marchivo\u001b[0m\u001b[1;33m.\u001b[0m\u001b[0mclose\u001b[0m\u001b[1;33m(\u001b[0m\u001b[1;33m)\u001b[0m\u001b[1;33m\u001b[0m\u001b[1;33m\u001b[0m\u001b[0m\n\u001b[0;32m      5\u001b[0m \u001b[1;31m#m=10\u001b[0m\u001b[1;33m\u001b[0m\u001b[1;33m\u001b[0m\u001b[1;33m\u001b[0m\u001b[0m\n",
      "\u001b[1;31mNameError\u001b[0m: name 'mdl' is not defined"
     ]
    }
   ],
   "source": [
    "solucion=mdl.solve(log_output=True)  \n",
    "archivo = open(\"nuevaExperimento\", \"w\") \n",
    "archivo.write(str(solucion)) \n",
    "archivo.close()\n",
    "#m=10            "
   ]
  },
  {
   "cell_type": "code",
   "execution_count": 24,
   "metadata": {},
   "outputs": [
    {
     "name": "stdout",
     "output_type": "stream",
     "text": [
      "Version identifier: 20.1.0.0 | 2020-11-10 | 9bedb6d68\n",
      "CPXPARAM_Read_DataCheck                          1\n",
      "\n",
      "Root node processing (before b&c):\n",
      "  Real time             =    0.00 sec. (0.01 ticks)\n",
      "Parallel b&c, 24 threads:\n",
      "  Real time             =    0.00 sec. (0.00 ticks)\n",
      "  Sync time (average)   =    0.00 sec.\n",
      "  Wait time (average)   =    0.00 sec.\n",
      "                          ------------\n",
      "Total (root+branch&cut) =    0.00 sec. (0.01 ticks)\n"
     ]
    }
   ],
   "source": [
    "solucion=mdl.solve(log_output=True)  \n",
    "archivo = open(\"nuevo.txt\", \"w\") \n",
    "archivo.write(str(solucion)) \n",
    "archivo.close()\n",
    "#m=9      "
   ]
  },
  {
   "cell_type": "code",
   "execution_count": 162,
   "metadata": {},
   "outputs": [
    {
     "name": "stdout",
     "output_type": "stream",
     "text": [
      "Version identifier: 12.10.0.0 | 2019-11-26 | 843d4de2ae\n",
      "CPXPARAM_Read_DataCheck                          1\n",
      "CPXPARAM_RandomSeed                              201903125\n",
      "Warning:  No solution found from 2 MIP starts.\n",
      "Retaining values of one MIP start for possible repair.\n",
      "Tried aggregator 1 time.\n",
      "MIP Presolve eliminated 23 rows and 1355 columns.\n",
      "Reduced MIP has 3478 rows, 17382 columns, and 64472 nonzeros.\n",
      "Reduced MIP has 2036 binaries, 15346 generals, 0 SOSs, and 0 indicators.\n",
      "Presolve time = 0.06 sec. (25.24 ticks)\n",
      "Probing time = 0.17 sec. (13.40 ticks)\n",
      "Cover probing fixed 0 vars, tightened 7260 bounds.\n",
      "Tried aggregator 1 time.\n",
      "Detecting symmetries...\n",
      "Reduced MIP has 3478 rows, 17382 columns, and 64472 nonzeros.\n",
      "Reduced MIP has 2036 binaries, 15346 generals, 0 SOSs, and 0 indicators.\n",
      "Presolve time = 0.06 sec. (28.64 ticks)\n",
      "Probing time = 0.08 sec. (6.42 ticks)\n",
      "Cover probing fixed 0 vars, tightened 3630 bounds.\n",
      "MIP emphasis: balance optimality and feasibility.\n",
      "MIP search method: dynamic search.\n",
      "Parallel mode: deterministic, using up to 4 threads.\n",
      "Root relaxation solution time = 0.25 sec. (38.34 ticks)\n",
      "\n",
      "        Nodes                                         Cuts/\n",
      "   Node  Left     Objective  IInf  Best Integer    Best Bound    ItCnt     Gap\n",
      "\n",
      "      0     0   203515.0000    59                 203515.0000      668         \n",
      "      0     0   203521.0000    59                    Cuts: 35      708         \n",
      "      0     0   203526.0784    59                    Cuts: 29      857         \n",
      "      0     0   204067.5293    59                Flowcuts: 24     1785         \n",
      "      0     0   204067.7792    59                    Cuts: 18     1880         \n",
      "      0     0   204067.7792    59                Flowcuts: 10     1903         \n",
      "      0     0   204067.7792    59                 Flowcuts: 9     2000         \n",
      "*     0+    0                       232175.0000   204207.8674            12.05%\n",
      "*     0+    0                       222474.0000   204776.7182             7.95%\n",
      "      0     0  -1.00000e+75     0   222474.0000   204776.7182     2000    7.95%\n",
      "Repair heuristic found nothing.\n",
      "      0     2   204067.7792   159   222474.0000   204776.7182     2000    7.95%\n",
      "Elapsed time = 19.66 sec. (5492.79 ticks, tree = 0.02 MB, solutions = 2)\n",
      "     13    15   204069.0299   124   222474.0000   204776.7182     2897    7.95%\n",
      "*    20+    1                       222374.0000   204776.7182             7.91%\n",
      "*    21+    2                       211374.0000   204776.7182             3.12%\n",
      "*    23+    3                       211373.0000   204776.7182             3.12%\n",
      "     24    24   204721.8279   167   211373.0000   204776.7182     5104    3.12%\n",
      "     28    27   204835.2155   226   211373.0000   204776.7182     6647    3.12%\n",
      "     32    29   204884.3775   227   211373.0000   204776.7182    10102    3.12%\n",
      "     58    48   204835.5596   184   211373.0000   204776.7182    20665    3.12%\n",
      "     97    63   204884.3775   146   211373.0000   204776.7182    21139    3.12%\n",
      "    128   120   204885.0420   137   211373.0000   204776.7182    26977    3.12%\n",
      "    190   124   204895.5236   101   211373.0000   204776.7182    27872    3.12%\n",
      "    238   172   204885.5376   114   211373.0000   204776.7182    29430    3.12%\n",
      "    430   304   205023.0058   151   211373.0000   204776.7182    37718    3.12%\n",
      "Elapsed time = 31.59 sec. (8802.71 ticks, tree = 20.71 MB, solutions = 5)\n",
      "    479   346   204910.2491   203   211373.0000   204776.7182    52581    3.12%\n",
      "    572   431   204884.7158   217   211373.0000   204776.7182    55972    3.12%\n",
      "    667   498   204876.3804   230   211373.0000   204776.7182    64340    3.12%\n",
      "    782   598   204902.6891   177   211373.0000   204776.7182    70666    3.12%\n",
      "*   914+  688                       211372.0000   204776.7182             3.12%\n",
      "    940   740   204885.8793   149   211372.0000   204776.7182    79625    3.12%\n",
      "*  1024+  772                       211371.0000   204776.7182             3.12%\n",
      "*  1123+  876                       209371.0000   204776.7182             2.19%\n",
      "   1139   892   205017.6976    97   209371.0000   204776.7182    93610    2.19%\n",
      "*  1206+  986                       209270.0000   204776.7182             2.15%\n",
      "   1275  1045   205251.0877   157   209270.0000   204776.7182   101696    2.15%\n",
      "\n",
      "Performing restart 1\n",
      "\n",
      "Repeating presolve.\n",
      "Tried aggregator 1 time.\n",
      "Reduced MIP has 3478 rows, 17382 columns, and 64472 nonzeros.\n",
      "Reduced MIP has 2036 binaries, 15346 generals, 0 SOSs, and 0 indicators.\n",
      "Presolve time = 0.08 sec. (19.75 ticks)\n",
      "Tried aggregator 1 time.\n",
      "MIP Presolve modified 2036 coefficients.\n",
      "Reduced MIP has 3478 rows, 17382 columns, and 64472 nonzeros.\n",
      "Reduced MIP has 2036 binaries, 15346 generals, 0 SOSs, and 0 indicators.\n",
      "Presolve time = 0.06 sec. (28.59 ticks)\n",
      "Represolve time = 0.31 sec. (83.17 ticks)\n",
      "*  1281+    0                       209219.0000   204876.4421             2.08%\n",
      "   1281     0   205465.0054   244   209219.0000     Cuts: 192   112610    1.79%\n",
      "   1281     0   205515.0000   244   209219.0000     Cuts: 190   113450    1.77%\n",
      "   1281     0   205515.0000   244   209219.0000     Cuts: 218   113923    1.77%\n",
      "*  1281+    0                       209218.0000   205515.0000             1.77%\n",
      "   1281     0   205515.0000   244   209218.0000     Cuts: 172   114494    1.77%\n",
      "   1281     0   205515.0000   244   209218.0000     Cuts: 151   115311    1.77%\n",
      "   1281     0   205515.0000   244   209218.0000     Cuts: 168   116349    1.77%\n",
      "*  1281+    0                       205618.0000   205515.0000             0.05%\n",
      "   1281     0   205515.0000   244   205618.0000     Cuts: 229   117807    0.05%\n",
      "   1281     0   205515.0000   244   205618.0000     Cuts: 236   118764    0.05%\n",
      "   1281     0   205515.0000   244   205618.0000     Cuts: 224   119963    0.05%\n",
      "   1281     2   205515.0000   288   205618.0000   205515.0000   119963    0.05%\n",
      "   1282     3   205515.0000   242   205618.0000   205515.0000   121340    0.05%\n",
      "*  1283+    1                       205617.0000   205515.0000             0.05%\n",
      "*  1283+    1                       205516.0000   205515.0000             0.00%\n",
      "   1283     4   205515.0000   261   205516.0000   205515.0000   125417    0.00%\n",
      "Elapsed time = 141.45 sec. (37887.28 ticks, tree = 0.05 MB, solutions = 15)\n",
      "   1284     4   205515.0000   233   205516.0000   205515.0000   135971    0.00%\n",
      "\n",
      "Flow cuts applied:  292\n",
      "Mixed integer rounding cuts applied:  99\n",
      "Lift and project cuts applied:  1\n",
      "Gomory fractional cuts applied:  2\n",
      "\n",
      "Root node processing (before b&c):\n",
      "  Real time             =   19.67 sec. (5489.50 ticks)\n",
      "Parallel b&c, 4 threads:\n",
      "  Real time             =  123.53 sec. (53048.29 ticks)\n",
      "  Sync time (average)   =    5.73 sec.\n",
      "  Wait time (average)   =    0.02 sec.\n",
      "                          ------------\n",
      "Total (root+branch&cut) =  143.20 sec. (58537.79 ticks)\n"
     ]
    }
   ],
   "source": [
    "solucion=mdl.solve(log_output=True)  \n",
    "archivo = open(\"solucionTransmi-11nodos.txt\", \"w\") \n",
    "archivo.write(str(solucion)) \n",
    "archivo.close()"
   ]
  },
  {
   "cell_type": "code",
   "execution_count": 76,
   "metadata": {},
   "outputs": [
    {
     "name": "stdout",
     "output_type": "stream",
     "text": [
      "(1, 0, 0, 1) 10.0\n",
      "(1, 0, 1, 1) 10.0\n",
      "(1, 1, 0, 1) 10.0\n",
      "(1, 1, 1, 0) 10.0\n"
     ]
    }
   ],
   "source": [
    "\n",
    "\n",
    "for i in range(tamRutas):\n",
    "    if(y[ (i) ].solution_value>0):\n",
    "        print(rutas[i],f[ (i) ].solution_value)\n",
    "      \n",
    "\n",
    "    \n"
   ]
  },
  {
   "cell_type": "code",
   "execution_count": 5,
   "metadata": {},
   "outputs": [
    {
     "name": "stdout",
     "output_type": "stream",
     "text": [
      "Version identifier: 20.1.0.0 | 2020-11-10 | 9bedb6d68\n",
      "CPXPARAM_Read_DataCheck                          1\n",
      "Warning:  No solution found from 1 MIP starts.\n",
      "Retaining values of one MIP start for possible repair.\n",
      "Tried aggregator 1 time.\n",
      "MIP Presolve eliminated 9 rows and 74 columns.\n",
      "Reduced MIP has 88 rows, 214 columns, and 643 nonzeros.\n",
      "Reduced MIP has 11 binaries, 203 generals, 0 SOSs, and 0 indicators.\n",
      "Presolve time = 0.00 sec. (0.29 ticks)\n",
      "Probing time = 0.00 sec. (0.06 ticks)\n",
      "Cover probing fixed 0 vars, tightened 96 bounds.\n",
      "Tried aggregator 1 time.\n",
      "Detecting symmetries...\n",
      "MIP Presolve eliminated 11 rows and 11 columns.\n",
      "Reduced MIP has 77 rows, 203 columns, and 621 nonzeros.\n",
      "Reduced MIP has 11 binaries, 192 generals, 0 SOSs, and 0 indicators.\n",
      "Presolve time = 0.00 sec. (0.43 ticks)\n",
      "Probing time = 0.00 sec. (0.02 ticks)\n",
      "MIP emphasis: balance optimality and feasibility.\n",
      "MIP search method: dynamic search.\n",
      "Parallel mode: deterministic, using up to 24 threads.\n",
      "Root relaxation solution time = 0.00 sec. (0.19 ticks)\n",
      "\n",
      "        Nodes                                         Cuts/\n",
      "   Node  Left     Objective  IInf  Best Integer    Best Bound    ItCnt     Gap\n",
      "\n",
      "      0     0     9600.0000     4                   9600.0000       28         \n",
      "      0     0     9600.0000     4                 Flowcuts: 8       30         \n",
      "*     0+    0                       1.14000e+08     9600.0000            99.99%\n",
      "*     0+    0                         9700.0000     9600.0000             1.03%\n",
      "      0     0        cutoff           9700.0000     9700.0000       30    0.00%\n",
      "Elapsed time = 0.03 sec. (6.23 ticks, tree = 0.01 MB, solutions = 2)\n",
      "\n",
      "Flow cuts applied:  8\n",
      "\n",
      "Root node processing (before b&c):\n",
      "  Real time             =    0.03 sec. (6.24 ticks)\n",
      "Parallel b&c, 24 threads:\n",
      "  Real time             =    0.00 sec. (0.00 ticks)\n",
      "  Sync time (average)   =    0.00 sec.\n",
      "  Wait time (average)   =    0.00 sec.\n",
      "                          ------------\n",
      "Total (root+branch&cut) =    0.03 sec. (6.24 ticks)\n"
     ]
    }
   ],
   "source": [
    "\n"
   ]
  },
  {
   "cell_type": "code",
   "execution_count": 12,
   "metadata": {},
   "outputs": [
    {
     "name": "stdout",
     "output_type": "stream",
     "text": [
      "[1, 2]\n",
      "[0, 3]\n",
      "[0, 2, 3]\n",
      "[0, 1, 3]\n"
     ]
    }
   ],
   "source": [
    "print(rutasmodificadas[6])\n",
    "print(rutasmodificadas[9])\n",
    "print(rutasmodificadas[11])\n",
    "print(rutasmodificadas[13])\n",
    "\n"
   ]
  },
  {
   "cell_type": "code",
   "execution_count": 2,
   "metadata": {},
   "outputs": [
    {
     "name": "stdout",
     "output_type": "stream",
     "text": [
      "[[0, 10, 19, 28, 37, 46, 55, 64], [10, 0, 10, 19, 28, 37, 46, 55], [19, 10, 0, 10, 19, 28, 37, 46], [28, 19, 10, 0, 10, 19, 28, 37], [37, 28, 19, 10, 0, 10, 19, 28], [46, 37, 28, 19, 10, 0, 10, 19], [55, 46, 37, 28, 19, 10, 0, 10], [64, 55, 46, 37, 28, 19, 10, 0]]\n"
     ]
    }
   ],
   "source": [
    "print(c)"
   ]
  },
  {
   "cell_type": "code",
   "execution_count": 43,
   "metadata": {},
   "outputs": [
    {
     "name": "stdout",
     "output_type": "stream",
     "text": [
      "[[0, 10, 20, 30], [40, 0, 50, 60], [70, 80, 0, 90], [100, 110, 120, 0]]\n"
     ]
    }
   ],
   "source": [
    "print(b)\n"
   ]
  },
  {
   "cell_type": "code",
   "execution_count": null,
   "metadata": {},
   "outputs": [],
   "source": []
  }
 ],
 "metadata": {
  "kernelspec": {
   "display_name": "Python 3",
   "language": "python",
   "name": "python3"
  },
  "language_info": {
   "codemirror_mode": {
    "name": "ipython",
    "version": 3
   },
   "file_extension": ".py",
   "mimetype": "text/x-python",
   "name": "python",
   "nbconvert_exporter": "python",
   "pygments_lexer": "ipython3",
   "version": "3.8.5"
  }
 },
 "nbformat": 4,
 "nbformat_minor": 4
}
