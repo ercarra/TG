{
 "cells": [
  {
   "cell_type": "code",
   "execution_count": 5,
   "metadata": {},
   "outputs": [
    {
     "name": "stdout",
     "output_type": "stream",
     "text": [
      "4\n"
     ]
    }
   ],
   "source": [
    "\n"
   ]
  },
  {
   "cell_type": "code",
   "execution_count": 7,
   "metadata": {},
   "outputs": [],
   "source": [
    "b=[]\n",
    "#hola\n",
    "aux=[]\n",
    "#parametros\n",
    "nodos=[1,2,3]\n",
    "rutas=[(1,1,1)]\n",
    "numNodos=len(nodos)\n",
    "numRutas=len(rutas)\n",
    "\n",
    "#contruir b\n",
    "for i in range(numNodos):\n",
    "     aux.append(0) \n",
    "for i in range(numNodos):\n",
    "     b.append(aux[:])  \n",
    "aux=1        \n",
    "for i in range(numNodos):\n",
    "    for j in range(numNodos):\n",
    "        if(i != j):\n",
    "            b[i][j]=50\n",
    "            aux=aux+1\n",
    "c=[]\n",
    "aux=[]\n",
    "for i in range(numNodos):\n",
    "     aux.append(0) \n",
    "for i in range(numNodos):\n",
    "     c.append(aux[:])  \n",
    "for i in range(numNodos):\n",
    "    for j in range(numNodos):\n",
    "        if(i != j):\n",
    "            c[i][j]=abs(i-j)*10-abs(i-j)+1 \n",
    "            \n",
    "B2={(o,d,i):0 for o in range(numNodos) for d in range(numNodos) for i in  range(numNodos)}\n",
    "for i in range(numNodos):\n",
    "    for j in range(numNodos):\n",
    "        B2[i,j,i]=b[i][j]\n",
    "        B2[i,j,j]=-b[i][j]\n",
    "\n",
    "\n",
    "arcos1=[(k,i,j)for k in range(numRutas) for i in range(numNodos) for j in range(numNodos) ]\n",
    "rutasmodificadas=[]\n",
    "rutaaux=[]\n",
    "for i in range(numRutas):\n",
    "   rutaaux.clear() \n",
    "   for j in range(numNodos):\n",
    "        if rutas[i][j] == 1:\n",
    "            rutaaux.append(j)          \n",
    "   rutasmodificadas.append(rutaaux[:])  \n",
    "\n",
    "#creacion parametro rkij\n",
    "\n",
    "\n",
    "r={}\n",
    "for i in arcos1:\n",
    "    r[i]=0\n",
    "for i in range(numRutas):\n",
    "    for j in range(len(rutasmodificadas[i])-1):\n",
    "        r[(i,rutasmodificadas[i][j],rutasmodificadas[i][j+1])]=1\n",
    "        r[(i,rutasmodificadas[i][j+1],rutasmodificadas[i][j])]=1\n",
    "#-------------------------\n",
    "        \n",
    "arcosX=[(i,j,o,d) for i in range(numNodos)for j in range(numNodos)for o in range(numNodos)for d in range(numNodos)]\n",
    "arcosY=[(i) for i in range (numRutas)]\n",
    "u= 100\n",
    "m= 40\n",
    "Q= 50\n",
    "alpha=600"
   ]
  },
  {
   "cell_type": "code",
   "execution_count": 12,
   "metadata": {},
   "outputs": [
    {
     "name": "stdout",
     "output_type": "stream",
     "text": [
      "Version identifier: 20.1.0.0 | 2020-11-10 | 9bedb6d68\n",
      "CPXPARAM_Read_DataCheck                          1\n",
      "Tried aggregator 1 time.\n",
      "LP Presolve eliminated 19 rows and 64 columns.\n",
      "Aggregator did 18 substitutions.\n",
      "All rows and columns eliminated.\n",
      "Presolve time = 0.02 sec. (0.04 ticks)\n",
      "* model BRT solved with objective = 4600.000\n"
     ]
    }
   ],
   "source": [
    "\n",
    "from docplex.mp.model import Model\n",
    "\n",
    "\n",
    "mdl= Model(\"BRT\")\n",
    "#creacion variables de desicion\n",
    "x=mdl.continuous_var_dict(arcosX,name=\"x\")\n",
    "y=mdl.continuous_var_dict(arcosY,name=\"y\")\n",
    "\n",
    "\n",
    " # funcion a minimizar\n",
    "costoX=mdl.sum(c[i][j]*x[(i,j,o,d)]for i in range(numNodos) for j in range(numNodos)for o in range(numNodos)for d in range(numNodos))   \n",
    "costoY=mdl.sum(alpha*(y[i])for i in range(numRutas))\n",
    "obj=mdl.minimize(costoX+costoY)\n",
    "\n",
    "\n",
    "\n",
    "#capacidad  \n",
    "capacidad=[]\n",
    "capacidadAux=[]\n",
    "for i in  range(numNodos):\n",
    "    for j in range(numNodos): \n",
    "        capacidad.append(mdl.add_constraint(mdl.sum(x[(i,j,o,d)] for o in range(numNodos)for d in range(numNodos))<= mdl.sum(r[(k,i,j)]*y[(k)]*u for k in range(numRutas))))\n",
    "    \n",
    "#flujo\n",
    "for i in range(numNodos):  \n",
    "    for o in range(numNodos):\n",
    "        for d in range(numNodos):       \n",
    "            mdl.add_constraint((mdl.sum(x[(i,j,o,d) ] for j in range(numNodos) )-mdl.sum(x[(j,i,o,d) ] for j in range(numNodos) ) )==B2[(o,d,i)])\n",
    "#maximo rutas\n",
    " \n",
    "sumaRutas= mdl.sum(y[(k)]for k in range(numRutas))\n",
    "maxRutas=mdl.add_constraint(sumaRutas<=m)  \n",
    "\n",
    "\n",
    "mdl.solve(log_output=True)\n",
    "mdl.report()\n",
    "\n",
    "\n",
    "\n",
    "\n",
    "\n",
    "\n"
   ]
  },
  {
   "cell_type": "code",
   "execution_count": 9,
   "metadata": {},
   "outputs": [
    {
     "name": "stdout",
     "output_type": "stream",
     "text": [
      "0\n"
     ]
    }
   ],
   "source": [
    "z=mdl._dual_value1(maxRutas)\n",
    "print(z)"
   ]
  },
  {
   "cell_type": "code",
   "execution_count": 14,
   "metadata": {},
   "outputs": [
    {
     "name": "stdout",
     "output_type": "stream",
     "text": [
      "(1, 1, 1) 1.0\n"
     ]
    }
   ],
   "source": [
    "for i in range(numRutas):\n",
    "    if(y[(i)].solution_value):\n",
    "        print(rutas[i],y[(i)].solution_value)"
   ]
  },
  {
   "cell_type": "code",
   "execution_count": 79,
   "metadata": {},
   "outputs": [
    {
     "name": "stdout",
     "output_type": "stream",
     "text": [
      "Version identifier: 20.1.0.0 | 2020-11-10 | 9bedb6d68\n",
      "CPXPARAM_Read_DataCheck                          1\n",
      "Found incumbent of value 0.000000 after 0.00 sec. (0.00 ticks)\n",
      "Tried aggregator 2 times.\n",
      "MIP Presolve eliminated 7 rows and 7 columns.\n",
      "Aggregator did 2 substitutions.\n",
      "All rows and columns eliminated.\n",
      "Presolve time = 0.00 sec. (0.01 ticks)\n",
      "\n",
      "Root node processing (before b&c):\n",
      "  Real time             =    0.00 sec. (0.01 ticks)\n",
      "Parallel b&c, 24 threads:\n",
      "  Real time             =    0.00 sec. (0.00 ticks)\n",
      "  Sync time (average)   =    0.00 sec.\n",
      "  Wait time (average)   =    0.00 sec.\n",
      "                          ------------\n",
      "Total (root+branch&cut) =    0.00 sec. (0.01 ticks)\n",
      "* model Aux solved with objective = 6.000\n"
     ]
    }
   ],
   "source": [
    "matriz=[(i,j)for i in range(numNodos) for j in range(numNodos) ]\n",
    "r={}\n",
    "for i in matriz:\n",
    "    r[i]=0\n",
    "    \n",
    "\n",
    "\n",
    "\n",
    "mdlAux= Model(\"Aux\")\n",
    "rutaNueva=mdlAux.binary_var_dict(matriz,name=\"r\")\n",
    "\n",
    "dualCapacidad = mdl.dual_values(capacidad)\n",
    "\n",
    "\n",
    "\n",
    "objAux=mdlAux.maximize(mdlAux.sum((-rutaNueva[i,j])*dualCapacidad[numNodos*i+j] for i in range(numNodos) for j in range(numNodos)))\n",
    "\n",
    "\n",
    "mdlAux.add_constraint(mdlAux.sum(rutaNueva[(0,j)] for j in range(1,numNodos))<=1)\n",
    "\n",
    "for i in range(1,numNodos):    \n",
    "    mdlAux.add_constraint(mdlAux.sum(rutaNueva[(i,j)] for j in range(i+1,numNodos))<=mdlAux.sum(rutaNueva[(j,i)] for j in range(i-1)))\n",
    "    \n",
    "for i in range(numNodos):\n",
    "    for j in range(i+1,numNodos):\n",
    "        mdlAux.add_constraint(rutaNueva[(i,j)]==rutaNueva[(j,i)])\n",
    "        \n",
    "for i in range(numNodos):\n",
    "    mdlAux.add_constraint(rutaNueva[(i,i)]==0)\n",
    "                       \n",
    "mdlAux.solve(log_output=True)\n",
    "mdlAux.report()                   "
   ]
  },
  {
   "cell_type": "code",
   "execution_count": 58,
   "metadata": {},
   "outputs": [
    {
     "name": "stdout",
     "output_type": "stream",
     "text": [
      "0 0 1.0  \n",
      "0 0 0  \n",
      "1.0 0 0  \n"
     ]
    }
   ],
   "source": [
    "\n",
    "for i in range(numNodos):\n",
    "    for j in range (numNodos):\n",
    "        print(rutaNueva[(i,j)].solution_value,end=\" \")\n",
    "    print(\" \")    "
   ]
  },
  {
   "cell_type": "code",
   "execution_count": null,
   "metadata": {},
   "outputs": [],
   "source": []
  },
  {
   "cell_type": "code",
   "execution_count": 59,
   "metadata": {},
   "outputs": [
    {
     "name": "stdout",
     "output_type": "stream",
     "text": [
      "Version identifier: 20.1.0.0 | 2020-11-10 | 9bedb6d68\n",
      "CPXPARAM_Read_DataCheck                          1\n",
      "Tried aggregator 1 time.\n",
      "LP Presolve eliminated 3 rows and 27 columns.\n",
      "Reduced LP has 34 rows, 56 columns, and 170 nonzeros.\n",
      "Presolve time = 0.00 sec. (0.07 ticks)\n",
      "Symmetry aggregator did 52 additional substitutions.\n",
      "\n",
      "Iteration log . . .\n",
      "Iteration:     1   Dual objective     =          1000.000000\n",
      "\n",
      "Dual crossover.\n",
      "  Dual:  Fixing 4 variables.\n",
      "        3 DMoves:  Infeasibility  0.00000000e+00  Objective  4.50000000e+03\n",
      "        0 DMoves:  Infeasibility  0.00000000e+00  Objective  4.50000000e+03\n",
      "  Dual:  Pushed 0, exchanged 4.\n",
      "  Primal:  Fixed no variables.\n",
      "* model BRT solved with objective = 4500.000\n"
     ]
    }
   ],
   "source": [
    "b=[]\n",
    "aux=[]\n",
    "#parametros\n",
    "nodos=[1,2,3]\n",
    "rutas=[(1,1,1),(1,0,1)]\n",
    "numNodos=len(nodos)\n",
    "numRutas=len(rutas)\n",
    "\n",
    "#contruir b\n",
    "for i in range(numNodos):\n",
    "     aux.append(0) \n",
    "for i in range(numNodos):\n",
    "     b.append(aux[:])  \n",
    "aux=1        \n",
    "for i in range(numNodos):\n",
    "    for j in range(numNodos):\n",
    "        if(i != j):\n",
    "            b[i][j]=50\n",
    "            aux=aux+1\n",
    "c=[]\n",
    "aux=[]\n",
    "for i in range(numNodos):\n",
    "     aux.append(0) \n",
    "for i in range(numNodos):\n",
    "     c.append(aux[:])  \n",
    "for i in range(numNodos):\n",
    "    for j in range(numNodos):\n",
    "        if(i != j):\n",
    "            c[i][j]=abs(i-j)*10-abs(i-j)+1 \n",
    "            \n",
    "B2={(o,d,i):0 for o in range(numNodos) for d in range(numNodos) for i in  range(numNodos)}\n",
    "for i in range(numNodos):\n",
    "    for j in range(numNodos):\n",
    "        B2[i,j,i]=b[i][j]\n",
    "        B2[i,j,j]=-b[i][j]\n",
    "\n",
    "\n",
    "arcos1=[(k,i,j)for k in range(numRutas) for i in range(numNodos) for j in range(numNodos) ]\n",
    "rutasmodificadas=[]\n",
    "rutaaux=[]\n",
    "for i in range(numRutas):\n",
    "   rutaaux.clear() \n",
    "   for j in range(numNodos):\n",
    "        if rutas[i][j] == 1:\n",
    "            rutaaux.append(j)          \n",
    "   rutasmodificadas.append(rutaaux[:])  \n",
    "\n",
    "#creacion parametro rkij\n",
    "\n",
    "\n",
    "r={}\n",
    "for i in arcos1:\n",
    "    r[i]=0\n",
    "for i in range(numRutas):\n",
    "    for j in range(len(rutasmodificadas[i])-1):\n",
    "        r[(i,rutasmodificadas[i][j],rutasmodificadas[i][j+1])]=1\n",
    "        r[(i,rutasmodificadas[i][j+1],rutasmodificadas[i][j])]=1\n",
    "#-------------------------\n",
    "        \n",
    "arcosX=[(i,j,o,d) for i in range(numNodos)for j in range(numNodos)for o in range(numNodos)for d in range(numNodos)]\n",
    "arcosY=[(i) for i in range (numRutas)]\n",
    "u= 100\n",
    "m= 40\n",
    "Q= 50\n",
    "alpha=600\n",
    "\n",
    "from docplex.mp.model import Model\n",
    "\n",
    "\n",
    "mdl= Model(\"BRT\")\n",
    "#creacion variables de desicion\n",
    "x=mdl.continuous_var_dict(arcosX,name=\"x\")\n",
    "y=mdl.continuous_var_dict(arcosY,name=\"y\")\n",
    "\n",
    "\n",
    " # funcion a minimizar\n",
    "costoX=mdl.sum(c[i][j]*x[(i,j,o,d)]for i in range(numNodos) for j in range(numNodos)for o in range(numNodos)for d in range(numNodos))   \n",
    "costoY=mdl.sum(alpha*(y[i])for i in range(numRutas))\n",
    "obj=mdl.minimize(costoX+costoY)\n",
    "\n",
    "\n",
    "\n",
    "#capacidad  \n",
    "capacidad=[]\n",
    "capacidadAux=[]\n",
    "for i in  range(numNodos):\n",
    "    for j in range(numNodos): \n",
    "        capacidad.append(mdl.add_constraint(mdl.sum(x[(i,j,o,d)] for o in range(numNodos)for d in range(numNodos))<= mdl.sum(r[(k,i,j)]*y[(k)]*u for k in range(numRutas))))\n",
    "    \n",
    "#flujo\n",
    "for i in range(numNodos):  \n",
    "    for o in range(numNodos):\n",
    "        for d in range(numNodos):       \n",
    "            mdl.add_constraint((mdl.sum(x[(i,j,o,d) ] for j in range(numNodos) )-mdl.sum(x[(j,i,o,d) ] for j in range(numNodos) ) )==B2[(o,d,i)])\n",
    "#maximo rutas\n",
    " \n",
    "sumaRutas= mdl.sum(y[(k)]for k in range(numRutas))\n",
    "maxRutas=mdl.add_constraint(sumaRutas<=m)  \n",
    "\n",
    "\n",
    "mdl.solve(log_output=True)\n",
    "mdl.report()\n",
    "\n"
   ]
  },
  {
   "cell_type": "code",
   "execution_count": 24,
   "metadata": {},
   "outputs": [
    {
     "ename": "NameError",
     "evalue": "name 'items' is not defined",
     "output_type": "error",
     "traceback": [
      "\u001b[1;31m---------------------------------------------------------------------------\u001b[0m",
      "\u001b[1;31mNameError\u001b[0m                                 Traceback (most recent call last)",
      "\u001b[1;32m<ipython-input-24-2d0e1ccb04f5>\u001b[0m in \u001b[0;36m<module>\u001b[1;34m\u001b[0m\n\u001b[0;32m      1\u001b[0m \u001b[1;32mfrom\u001b[0m \u001b[0mdocplex\u001b[0m\u001b[1;33m.\u001b[0m\u001b[0mmp\u001b[0m\u001b[1;33m.\u001b[0m\u001b[0mmodel\u001b[0m \u001b[1;32mimport\u001b[0m \u001b[0mModel\u001b[0m\u001b[1;33m\u001b[0m\u001b[1;33m\u001b[0m\u001b[0m\n\u001b[0;32m      2\u001b[0m \u001b[0mmaster_mdl\u001b[0m \u001b[1;33m=\u001b[0m \u001b[0mModel\u001b[0m\u001b[1;33m(\u001b[0m\u001b[1;34m'Master-Cutstock'\u001b[0m\u001b[1;33m)\u001b[0m\u001b[1;33m\u001b[0m\u001b[1;33m\u001b[0m\u001b[0m\n\u001b[1;32m----> 3\u001b[1;33m \u001b[0mdummy_vars\u001b[0m \u001b[1;33m=\u001b[0m \u001b[0mmaster_mdl\u001b[0m\u001b[1;33m.\u001b[0m\u001b[0mcontinuous_var_dict\u001b[0m\u001b[1;33m(\u001b[0m\u001b[0mitems\u001b[0m\u001b[1;33m,\u001b[0m \u001b[0mlb\u001b[0m\u001b[1;33m=\u001b[0m\u001b[1;36m0\u001b[0m\u001b[1;33m,\u001b[0m \u001b[0mub\u001b[0m\u001b[1;33m=\u001b[0m\u001b[0mmax_cut\u001b[0m\u001b[1;33m,\u001b[0m \u001b[0mname\u001b[0m\u001b[1;33m=\u001b[0m\u001b[1;34m\"dummy_cut\"\u001b[0m\u001b[1;33m)\u001b[0m\u001b[1;33m\u001b[0m\u001b[1;33m\u001b[0m\u001b[0m\n\u001b[0m\u001b[0;32m      4\u001b[0m \u001b[0mcost\u001b[0m \u001b[1;33m=\u001b[0m \u001b[0mmaster_mdl\u001b[0m\u001b[1;33m.\u001b[0m\u001b[0msum\u001b[0m\u001b[1;33m(\u001b[0m \u001b[1;36m1000\u001b[0m\u001b[1;33m*\u001b[0m\u001b[0mdummy_vars\u001b[0m\u001b[1;33m[\u001b[0m\u001b[0mi\u001b[0m\u001b[1;33m]\u001b[0m \u001b[1;32mfor\u001b[0m \u001b[0mi\u001b[0m \u001b[1;32min\u001b[0m \u001b[0mitems\u001b[0m\u001b[1;33m)\u001b[0m\u001b[1;33m\u001b[0m\u001b[1;33m\u001b[0m\u001b[0m\n\u001b[0;32m      5\u001b[0m \u001b[0mobj\u001b[0m \u001b[1;33m=\u001b[0m \u001b[0mmaster_mdl\u001b[0m\u001b[1;33m.\u001b[0m\u001b[0mminimize\u001b[0m\u001b[1;33m(\u001b[0m \u001b[0mcost\u001b[0m \u001b[1;33m)\u001b[0m\u001b[1;33m\u001b[0m\u001b[1;33m\u001b[0m\u001b[0m\n",
      "\u001b[1;31mNameError\u001b[0m: name 'items' is not defined"
     ]
    }
   ],
   "source": [
    "from docplex.mp.model import Model\n",
    "master_mdl = Model('Master-Cutstock')\n",
    "dummy_vars = master_mdl.continuous_var_dict(items, lb=0, ub=max_cut, name=\"dummy_cut\")\n",
    "cost = master_mdl.sum( 1000*dummy_vars[i] for i in items)\n",
    "obj = master_mdl.minimize( cost )\n",
    "cts = master_mdl.add_constraints( dummy_vars[i]>= item_demands[i] for i in items)\n",
    "master_mdl.solve()\n",
    "master_mdl.report()"
   ]
  },
  {
   "cell_type": "code",
   "execution_count": 63,
   "metadata": {},
   "outputs": [
    {
     "name": "stdout",
     "output_type": "stream",
     "text": [
      "(1, 1, 1)\n",
      "0.5\n",
      "(1, 0, 1)\n",
      "0.5\n"
     ]
    }
   ],
   "source": [
    "for j in range (numRutas):\n",
    "    if(y[j].solution_value):\n",
    "        print(rutas[j])   \n",
    "        print(y[j].solution_value)\n",
    "        "
   ]
  },
  {
   "cell_type": "code",
   "execution_count": 48,
   "metadata": {},
   "outputs": [
    {
     "name": "stdout",
     "output_type": "stream",
     "text": [
      "Version identifier: 20.1.0.0 | 2020-11-10 | 9bedb6d68\n",
      "CPXPARAM_Read_DataCheck                          1\n",
      "Found incumbent of value 0.000000 after 0.00 sec. (0.00 ticks)\n",
      "Tried aggregator 2 times.\n",
      "MIP Presolve eliminated 7 rows and 7 columns.\n",
      "Aggregator did 2 substitutions.\n",
      "All rows and columns eliminated.\n",
      "Presolve time = 0.00 sec. (0.01 ticks)\n",
      "\n",
      "Root node processing (before b&c):\n",
      "  Real time             =    0.00 sec. (0.01 ticks)\n",
      "Parallel b&c, 24 threads:\n",
      "  Real time             =    0.00 sec. (0.00 ticks)\n",
      "  Sync time (average)   =    0.00 sec.\n",
      "  Wait time (average)   =    0.00 sec.\n",
      "                          ------------\n",
      "Total (root+branch&cut) =    0.00 sec. (0.01 ticks)\n",
      "* model Aux solved with objective = 6.000\n"
     ]
    }
   ],
   "source": [
    "matriz=[(i,j)for i in range(numNodos) for j in range(numNodos) ]\n",
    "r={}\n",
    "for i in matriz:\n",
    "    r[i]=0\n",
    "    \n",
    "\n",
    "\n",
    "\n",
    "mdlAux= Model(\"Aux\")\n",
    "rutaNueva=mdlAux.binary_var_dict(matriz,name=\"r\")\n",
    "\n",
    "dualCapacidad = mdl.dual_values(capacidad)\n",
    "\n",
    "\n",
    "\n",
    "objAux=mdlAux.maximize(mdlAux.sum((-rutaNueva[i,j])*dualCapacidad[numNodos*i+j] for i in range(numNodos) for j in range(numNodos)))\n",
    "\n",
    "\n",
    "mdlAux.add_constraint(mdlAux.sum(rutaNueva[(0,j)] for j in range(1,numNodos))<=1)\n",
    "\n",
    "for i in range(1,numNodos):    \n",
    "    mdlAux.add_constraint(mdlAux.sum(rutaNueva[(i,j)] for j in range(i+1,numNodos))<=mdlAux.sum(rutaNueva[(j,i)] for j in range(i-1)))\n",
    "    \n",
    "for i in range(numNodos):\n",
    "    for j in range(i+1,numNodos):\n",
    "        mdlAux.add_constraint(rutaNueva[(i,j)]==rutaNueva[(j,i)])\n",
    "        \n",
    "for i in range(numNodos):\n",
    "    mdlAux.add_constraint(rutaNueva[(i,i)]==0)\n",
    "                       \n",
    "mdlAux.solve(log_output=True)\n",
    "mdlAux.report()    "
   ]
  },
  {
   "cell_type": "code",
   "execution_count": null,
   "metadata": {},
   "outputs": [],
   "source": []
  }
 ],
 "metadata": {
  "kernelspec": {
   "display_name": "Python 3",
   "language": "python",
   "name": "python3"
  },
  "language_info": {
   "codemirror_mode": {
    "name": "ipython",
    "version": 3
   },
   "file_extension": ".py",
   "mimetype": "text/x-python",
   "name": "python",
   "nbconvert_exporter": "python",
   "pygments_lexer": "ipython3",
   "version": "3.8.5"
  }
 },
 "nbformat": 4,
 "nbformat_minor": 4
}