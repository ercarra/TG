{
 "cells": [
  {
   "cell_type": "code",
   "execution_count": 1,
   "metadata": {},
   "outputs": [],
   "source": [
    "import re \n",
    "\n",
    "\n",
    "Slabel = re.compile(r'[A-Z][0-9]+')\n",
    "Costos = re.compile(r'[0-9]+')\n",
    "\n",
    "u=0\n",
    "m=0\n",
    "Q=0 \n",
    "rutas=11\n",
    "\n",
    "fic = open(\"BRT-C1-S4-GENERADO.txt\", \"r\")\n",
    "\n",
    "lines = []\n",
    "for line in fic:\n",
    "    lines.append(line)\n",
    "\n",
    "#leer Slabel\n",
    "i=0\n",
    "while(lines[i]!=\"Slabel:[\\n\"):\n",
    "    i=i+1\n",
    "\n",
    "i=i+1 \n",
    "nodos2={}\n",
    "j=i\n",
    "while(lines[i]!=\"]\\n\") :\n",
    "    result = Slabel.search(lines[i])\n",
    "  ##print(lines[i]) \n",
    "    i=i+1 \n",
    "    nodos2[i-j]= result.group()\n",
    "\n",
    "i=i+1  \n",
    "\n",
    "\n",
    "\n",
    "\n",
    "#leer Dlabel\n",
    "while(lines[i]!=\"Dlabel:[\\n\"):\n",
    "    i=i+1\n",
    "i=i+1  \n",
    "while(lines[i]!=\"]\\n\") :\n",
    "    i=i+1 \n",
    "i=i+1 \n",
    "\n",
    "#leer costos\n",
    "c2={}\n",
    "while(lines[i]!=\"cost:[\\n\"):\n",
    "    i=i+1\n",
    "i=i+1  \n",
    "while(lines[i]!=\"]\\n\") :\n",
    "    result = Costos.findall(lines[i]) \n",
    "    i=i+1\n",
    "    c2[(int(result[0]),int(result[1]))]=int(result[2])\n",
    "i=i+1 \n",
    "\n",
    "\n",
    "\n",
    "#leer u\n",
    "while(lines[i][0]!=\"u\"):\n",
    "    i=i+1\n",
    "result = Costos.findall(lines[i])   \n",
    "u=int(result[0])\n",
    " \n",
    "i=i+1\n",
    "#leer m\n",
    "\n",
    "while(lines[i][0]!=\"m\"):\n",
    "    i=i+1\n",
    "result = Costos.findall(lines[i])   \n",
    "m=int(result[0])\n",
    " \n",
    "i=i+1  \n",
    "\n",
    "#leer Q\n",
    "while(lines[i][0]!=\"Q\"):\n",
    "    i=i+1\n",
    "result = Costos.findall(lines[i])   \n",
    "Q=int(result[0])\n",
    "\n",
    "i=i+1   \n",
    "\n",
    "\n",
    "#leer stat.\n",
    "stat={}\n",
    "while(lines[i]!=\"stat:[\\n\"):\n",
    "    i=i+1\n",
    "i=i+1  \n",
    "while(lines[i]!=\"]\\n\") :\n",
    "    result = Costos.findall(lines[i]) \n",
    "    i=i+1 \n",
    "    stat[int(result[0])]= int(result[1]) \n",
    "i=i+1 \n",
    "\n",
    "B2={(o,d,i):0 for o in nodos2 for d in nodos2 for i in stat}\n",
    "\n",
    "\n",
    "#leer b\n",
    "while(lines[i]!=\"b:[\\n\"):\n",
    "    i=i+1\n",
    "i=i+1  \n",
    "while(lines[i]!=\"]\\n\") :\n",
    "    result = Costos.findall(lines[i]) \n",
    "    B2[(int(result[0]),int(result[1]),int(result[0]))]=int(result[2])\n",
    "    B2[(int(result[0]),int(result[1]),int(result[1]))]=(-1)*int(result[2])  \n",
    "    i=i+1 \n",
    "i=i+1 \n",
    "\n",
    "Ar2={}\n",
    "rutaAsociada={}\n",
    "\n",
    "#leer< Ar\n",
    "while(lines[i]!=\"Ar:[\\n\"):\n",
    "    i=i+1\n",
    "i=i+1  \n",
    "j=i\n",
    "#cambia segun experimento-------------------------------------------------------------------<\n",
    "rutas2={(i,j):0 for i in range(1,rutas+1) for j in range(1,5)}\n",
    "\n",
    "while(lines[i]!=\"]\\n\") :\n",
    "    result = Costos.findall(lines[i]) \n",
    "    i=i+1 \n",
    "    Ar2[(int(result[0]),int(result[1]))]=int(result[3])\n",
    "    rutaAsociada[i-j]=int(result[2])\n",
    "    rutas2[(int(result[2]),stat[int(result[0])])]=1\n",
    "    rutas2[(int(result[2]),stat[int(result[1])])]=1\n",
    "\n",
    "\n",
    "i=i+1 \n",
    "\n",
    "\n",
    "\n",
    "As2={}\n",
    "\n",
    "#leer As\n",
    "while(lines[i]!=\"As:[\\n\"):\n",
    "    i=i+1\n",
    "i=i+1  \n",
    "while(lines[i]!=\"]\\n\") :\n",
    "    result = Costos.findall(lines[i]) \n",
    "    i=i+1 \n",
    "    As2[(int(result[0]),int(result[1]))]=int(result[3]) \n",
    "i=i+1 \n",
    "\n",
    "#matriz de costos nueva\n",
    "\n",
    "C2={}\n",
    "\n",
    "for i in Ar2:\n",
    "    C2[i]=c2[(stat[i[0]],stat[i[1]])]  \n",
    "for i in As2:   \n",
    "    C2[i]=0\n"
   ]
  },
  {
   "cell_type": "code",
   "execution_count": 2,
   "metadata": {},
   "outputs": [
    {
     "data": {
      "text/plain": [
       "docplex.mp.LinearConstraint[](f_1+f_2+f_3+f_4+f_5+f_6+f_7+f_8+f_9+f_10+f_11,LE,50)"
      ]
     },
     "execution_count": 2,
     "metadata": {},
     "output_type": "execute_result"
    }
   ],
   "source": [
    "\n",
    "from docplex.mp.model import Model\n",
    "\n",
    "mdl= Model(\"modelo\")\n",
    "arcos=[(i[0],i[1],o,d) for i in C2 for o in nodos2 for d in nodos2]\n",
    "x=mdl.continuous_var_dict(arcos,name=\"x\")\n",
    "\n",
    "arcosF=[(i) for i in range(1,rutas+1)]\n",
    "f=mdl.continuous_var_dict(arcosF,name=\"f\")\n",
    "y=mdl.integer_var_dict(arcosF,name=\"y\")\n",
    "\n",
    " \n",
    "u= 90\n",
    "m= 30\n",
    "Q= 50\n",
    "alpha=60\n",
    "\n",
    "\n",
    "mdl.minimize(mdl.sum(C2[i]*x[(i[0],i[1],o,d)] for i in C2 for o in nodos2 for d in nodos2)+alpha*mdl.sum(f[k]+y[k] for k in range(1,rutas+1)))\n",
    "\n",
    "aux={}\n",
    "aux2={}\n",
    "for i in stat:\n",
    "    aux.clear()  \n",
    "    aux2.clear()\n",
    "    for j in C2:\n",
    "        if(i==j[0]):\n",
    "            aux[j]=C2[j]\n",
    "    for j in C2:\n",
    "        if(i==j[1]):\n",
    "            aux2[j]=C2[j]\n",
    "                        \n",
    "    for o in  nodos2:\n",
    "        for d in nodos2:       \n",
    "            mdl.add_constraint((mdl.sum(x[(k[0],k[1],o,d) ] for k in aux )-mdl.sum(x[(k[0],k[1],o,d) ] for k in aux2 ) )==B2[(o,d,i)])\n",
    "\n",
    "\n",
    "aux3={}\n",
    "for k in range(1,rutas+1):\n",
    "    j=1\n",
    "    aux3.clear()\n",
    "    for i in Ar2:\n",
    "        if(k==rutaAsociada[j]):\n",
    "            aux3[i]=1            \n",
    "        j=j+1\n",
    "    for l in aux3:    \n",
    "        mdl.add_constraint(mdl.sum(x[(l[0],l[1],o,d)] for o in nodos2 for d in nodos2 )<=u*f[(k)])  \n",
    "        \n",
    "for k in range(1,rutas+1):\n",
    "    mdl.add_constraint(f[(k)]<=y[(k)]*10)\n",
    "\n",
    "mdl.add_constraint(mdl.sum(y[(k)] for k in range(1,rutas+1))<=m) \n",
    "mdl.add_constraint(mdl.sum(f[k] for k in range(1,rutas+1))<=Q)    "
   ]
  },
  {
   "cell_type": "code",
   "execution_count": 3,
   "metadata": {},
   "outputs": [
    {
     "name": "stdout",
     "output_type": "stream",
     "text": [
      "Version identifier: 20.1.0.0 | 2020-11-10 | 9bedb6d68\n",
      "CPXPARAM_Read_DataCheck                          1\n",
      "Tried aggregator 2 times.\n",
      "MIP Presolve eliminated 0 rows and 3136 columns.\n",
      "Aggregator did 448 substitutions.\n",
      "Reduced MIP has 111 rows, 566 columns, and 1710 nonzeros.\n",
      "Reduced MIP has 0 binaries, 11 generals, 0 SOSs, and 0 indicators.\n",
      "Presolve time = 0.02 sec. (3.43 ticks)\n",
      "Tried aggregator 1 time.\n",
      "Detecting symmetries...\n",
      "MIP Presolve eliminated 12 rows and 102 columns.\n",
      "Reduced MIP has 99 rows, 464 columns, and 1404 nonzeros.\n",
      "Reduced MIP has 0 binaries, 11 generals, 0 SOSs, and 0 indicators.\n",
      "Presolve time = 0.00 sec. (0.85 ticks)\n",
      "MIP emphasis: balance optimality and feasibility.\n",
      "MIP search method: dynamic search.\n",
      "Parallel mode: deterministic, using up to 24 threads.\n",
      "Root relaxation solution time = 0.02 sec. (0.40 ticks)\n",
      "\n",
      "        Nodes                                         Cuts/\n",
      "   Node  Left     Objective  IInf  Best Integer    Best Bound    ItCnt     Gap\n",
      "\n",
      "      0     0     9746.6667     4                   9746.6667       81         \n",
      "*     0+    0                         9973.3333     9746.6667             2.27%\n",
      "      0     0     9860.0000     2     9973.3333      Cuts: 16      111    1.14%\n",
      "      0     0     9932.7027     3     9973.3333       Cuts: 8      125    0.41%\n",
      "      0     0     9951.9347     4     9973.3333   MIRcuts: 10      146    0.21%\n",
      "      0     0        cutoff           9973.3333                    166    0.00%\n",
      "Elapsed time = 0.06 sec. (11.91 ticks, tree = 0.01 MB, solutions = 1)\n",
      "\n",
      "Mixed integer rounding cuts applied:  33\n",
      "Gomory fractional cuts applied:  4\n",
      "\n",
      "Root node processing (before b&c):\n",
      "  Real time             =    0.08 sec. (12.03 ticks)\n",
      "Parallel b&c, 24 threads:\n",
      "  Real time             =    0.00 sec. (0.00 ticks)\n",
      "  Sync time (average)   =    0.00 sec.\n",
      "  Wait time (average)   =    0.00 sec.\n",
      "                          ------------\n",
      "Total (root+branch&cut) =    0.08 sec. (12.03 ticks)\n"
     ]
    }
   ],
   "source": [
    "solucion=mdl.solve(log_output=True)  \n",
    "archivo = open(\"solucion.txt\", \"w\") \n",
    "archivo.write(str(solucion)) \n",
    "archivo.close()\n",
    "#m=10             "
   ]
  },
  {
   "cell_type": "code",
   "execution_count": 4,
   "metadata": {},
   "outputs": [
    {
     "name": "stdout",
     "output_type": "stream",
     "text": [
      "rutas.append((1,1,1,1)) 0.5555555555555556\n",
      "rutas.append((0,1,0,1)) 0.5555555555555556\n",
      "rutas.append((1,0,0,1)) 0.5555555555555556\n",
      "rutas.append((1,0,1,0)) 0.5555555555555556\n"
     ]
    }
   ],
   "source": [
    "\n",
    "for k in range(1,rutas+1):\n",
    "    if(y[ k ].solution_value>0):\n",
    "        print(\"rutas.append((\",end=\"\")\n",
    "        for j in range(1,5):\n",
    "            print(rutas2[(k,j)],end=\"\")\n",
    "            if(j!=4):\n",
    "                print(\",\",end=\"\")\n",
    "            \n",
    "        print(\"))\",f[ k ].solution_value)\n",
    "          "
   ]
  },
  {
   "cell_type": "raw",
   "metadata": {},
   "source": []
  },
  {
   "cell_type": "code",
   "execution_count": 113,
   "metadata": {},
   "outputs": [
    {
     "name": "stdout",
     "output_type": "stream",
     "text": [
      "rutas.append((1,0,0,1)) 0.5555555555555556\n",
      "rutas.append((1,1,1,1)) 1.6666666666666667\n"
     ]
    }
   ],
   "source": [
    "\n",
    "\n",
    "\n",
    "    \n",
    "\n",
    "   "
   ]
  },
  {
   "cell_type": "code",
   "execution_count": 101,
   "metadata": {},
   "outputs": [
    {
     "name": "stdout",
     "output_type": "stream",
     "text": [
      "rutas.append((1,0,1,1)) 1.1111111111111112\n",
      "rutas.append((1,1,0,1)) 0.5555555555555556\n",
      "rutas.append((1,1,1,1)) 0.5555555555555556\n"
     ]
    }
   ],
   "source": [
    "for k in range(1,rutas+1):\n",
    "    if(y[ k ].solution_value>0):\n",
    "        print(\"rutas.append((\",end=\"\")\n",
    "        for j in range(1,5):\n",
    "            print(rutas2[(k,j)],end=\"\")\n",
    "            if(j!=4):\n",
    "                print(\",\",end=\"\")\n",
    "            \n",
    "        print(\"))\",f[ k ].solution_value)\n",
    "        \n",
    "\n",
    "    \n",
    "\n"
   ]
  },
  {
   "cell_type": "code",
   "execution_count": 8,
   "metadata": {},
   "outputs": [
    {
     "name": "stdout",
     "output_type": "stream",
     "text": [
      "{1: 1, 2: 1, 3: 2, 4: 2, 5: 3, 6: 3, 7: 4, 8: 4, 9: 4, 10: 4, 11: 5, 12: 5, 13: 6, 14: 6, 15: 7, 16: 7, 17: 7, 18: 7, 19: 8, 20: 8, 21: 9, 22: 9, 23: 9, 24: 9, 25: 10, 26: 10, 27: 10, 28: 10, 29: 11, 30: 11, 31: 11, 32: 11, 33: 11, 34: 11}\n"
     ]
    }
   ],
   "source": []
  },
  {
   "cell_type": "code",
   "execution_count": null,
   "metadata": {},
   "outputs": [],
   "source": [
    "\n"
   ]
  },
  {
   "cell_type": "code",
   "execution_count": null,
   "metadata": {},
   "outputs": [],
   "source": [
    "         "
   ]
  },
  {
   "cell_type": "code",
   "execution_count": null,
   "metadata": {},
   "outputs": [],
   "source": []
  },
  {
   "cell_type": "code",
   "execution_count": null,
   "metadata": {
    "scrolled": true
   },
   "outputs": [],
   "source": []
  },
  {
   "cell_type": "code",
   "execution_count": null,
   "metadata": {},
   "outputs": [],
   "source": []
  }
 ],
 "metadata": {
  "kernelspec": {
   "display_name": "Python 3",
   "language": "python",
   "name": "python3"
  },
  "language_info": {
   "codemirror_mode": {
    "name": "ipython",
    "version": 3
   },
   "file_extension": ".py",
   "mimetype": "text/x-python",
   "name": "python",
   "nbconvert_exporter": "python",
   "pygments_lexer": "ipython3",
   "version": "3.8.5"
  }
 },
 "nbformat": 4,
 "nbformat_minor": 4
}
