{
 "cells": [
  {
   "cell_type": "code",
   "execution_count": 1,
   "metadata": {},
   "outputs": [],
   "source": [
    "from docplex.mp.model import Model\n"
   ]
  },
  {
   "cell_type": "code",
   "execution_count": 1,
   "metadata": {},
   "outputs": [
    {
     "data": {
      "text/html": [
       "<style>.container { width:100% !important; }</style>"
      ],
      "text/plain": [
       "<IPython.core.display.HTML object>"
      ]
     },
     "metadata": {},
     "output_type": "display_data"
    },
    {
     "name": "stdout",
     "output_type": "stream",
     "text": [
      "4096\n"
     ]
    }
   ],
   "source": [
    "from IPython.core.display import display, HTML\n",
    "display(HTML(\"<style>.container { width:100% !important; }</style>\"))\n",
    "        \n",
    "nodos=12\n",
    "\n",
    "b=[]\n",
    "aux=[]\n",
    "for i in range(nodos):\n",
    "     aux.append(0) \n",
    "for i in range(nodos):\n",
    "     b.append(aux[:])  \n",
    "aux=1        \n",
    "for i in range(nodos):\n",
    "    for j in range(nodos):\n",
    "        if(i != j):\n",
    "            b[i][j]=50\n",
    "            aux=aux+1           \n",
    "c=[]\n",
    "aux=[]\n",
    "for i in range(nodos):\n",
    "     aux.append(0) \n",
    "for i in range(nodos):\n",
    "     c.append(aux[:])  \n",
    "for i in range(nodos):\n",
    "    for j in range(nodos):\n",
    "        if(i != j):\n",
    "            c[i][j]=abs(i-j)*10-abs(i-j)+1 \n",
    "            \n",
    "B2={(o,d,i):0 for o in range(nodos) for d in range(nodos) for i in  range(nodos)}\n",
    "for i in range(nodos):\n",
    "    for j in range(nodos):\n",
    "        B2[i,j,i]=b[i][j]\n",
    "        B2[i,j,j]=-b[i][j]\n",
    "\n",
    "rutas=[(a,b,c,d,e,f,g,h,i,j,k,l) for a in range(2)for b in range(2)for c in range(2)for d in range(2)for e in range(2)for f in range(2)for g in range(2)for h in range(2)for i in range(2)for j in range(2)for k in range(2) for l in range(2)]\n",
    "\n",
    "\n",
    "\n",
    "tamRutas=len(rutas)\n",
    "\n",
    "arcos1=[(k,i,j)for k in range(tamRutas) for i in range( nodos) for j in range(nodos) ]\n",
    "rutasmodificadas=[]\n",
    "\n",
    "rutaaux=[]\n",
    "\n",
    "for i in range(tamRutas):\n",
    "    rutaaux.clear() \n",
    "    for j in range(nodos):\n",
    "        if rutas[i][j] == 1:\n",
    "            rutaaux.append(j)          \n",
    "    rutasmodificadas.append(rutaaux[:])  \n",
    "\n",
    "\n",
    "r={}\n",
    "for i in arcos1:\n",
    "    r[i]=0\n",
    "for i in range(tamRutas):\n",
    "    for j in range(len(rutasmodificadas[i])-1):\n",
    "        r[(i,rutasmodificadas[i][j],rutasmodificadas[i][j+1])]=1\n",
    "        r[(i,rutasmodificadas[i][j+1],rutasmodificadas[i][j])]=1\n",
    "        \n",
    "print(tamRutas)"
   ]
  },
  {
   "cell_type": "code",
   "execution_count": 4,
   "metadata": {},
   "outputs": [
    {
     "name": "stdout",
     "output_type": "stream",
     "text": [
      "Version identifier: 20.1.0.0 | 2020-11-10 | 9bedb6d68\n",
      "CPXPARAM_Read_DataCheck                          1\n",
      "Tried aggregator 1 time.\n",
      "MIP Presolve eliminated 25 rows and 1754 columns.\n",
      "Reduced MIP has 5945 rows, 27174 columns, and 114318 nonzeros.\n",
      "Reduced MIP has 4083 binaries, 0 generals, 0 SOSs, and 0 indicators.\n",
      "Presolve time = 0.05 sec. (35.26 ticks)\n",
      "Found incumbent of value 371741.666667 after 0.08 sec. (92.94 ticks)\n",
      "Probing time = 0.28 sec. (35.04 ticks)\n",
      "Cover probing fixed 0 vars, tightened 22176 bounds.\n",
      "Tried aggregator 1 time.\n",
      "Detecting symmetries...\n",
      "MIP Presolve eliminated 132 rows and 1452 columns.\n",
      "Reduced MIP has 5813 rows, 25722 columns, and 109962 nonzeros.\n",
      "Reduced MIP has 4083 binaries, 0 generals, 0 SOSs, and 0 indicators.\n",
      "Presolve time = 0.06 sec. (52.78 ticks)\n",
      "Probing time = 0.03 sec. (2.56 ticks)\n",
      "Cover probing fixed 0 vars, tightened 202 bounds.\n",
      "MIP emphasis: balance optimality and feasibility.\n",
      "MIP search method: dynamic search.\n",
      "Parallel mode: deterministic, using up to 24 threads.\n",
      "Root relaxation solution time = 0.05 sec. (81.13 ticks)\n",
      "\n",
      "        Nodes                                         Cuts/\n",
      "   Node  Left     Objective  IInf  Best Integer    Best Bound    ItCnt     Gap\n",
      "\n",
      "*     0+    0                       371741.6667        0.0000           100.00%\n",
      "*     0+    0                       278700.0000        0.0000           100.00%\n",
      "      0     0   264000.0000    41   278700.0000   264000.0000      842    5.27%\n",
      "*     0+    0                       267450.0000   264000.0000             1.29%\n",
      "      0     0   264100.0000    42   267450.0000      Cuts: 99     1421    1.25%\n",
      "      0     0   264324.6528    55   267450.0000      Cuts: 73     1947    1.17%\n",
      "      0     0   264550.0000    39   267450.0000      Cuts: 80     2121    1.08%\n",
      "*     0+    0                       264800.0000   264550.0000             0.09%\n",
      "      0     0  -1.00000e+75     0   264800.0000   264550.0000     2121    0.09%\n",
      "      0     0   264550.0000    29   264800.0000      Cuts: 50     2204    0.09%\n",
      "      0     0   264550.0000    34   264800.0000      Cuts: 32     2362    0.09%\n",
      "      0     0   264600.0000    12   264800.0000    MIRcuts: 2     2467    0.08%\n",
      "      0     0   264600.0000    16   264800.0000      Cuts: 16     2589    0.08%\n",
      "*     0+    0                       264700.0000   264600.0000             0.04%\n",
      "*     0+    0                       264600.0000   264600.0000             0.00%\n",
      "      0     0  -1.00000e+75     0   264600.0000   264600.0000     2589    0.00%\n",
      "      0     0        cutoff         264600.0000   264600.0000     2589    0.00%\n",
      "Elapsed time = 3.03 sec. (5213.86 ticks, tree = 0.01 MB, solutions = 6)\n",
      "\n",
      "Flow cuts applied:  62\n",
      "Mixed integer rounding cuts applied:  112\n",
      "Gomory fractional cuts applied:  19\n",
      "\n",
      "Root node processing (before b&c):\n",
      "  Real time             =    3.03 sec. (5216.25 ticks)\n",
      "Parallel b&c, 24 threads:\n",
      "  Real time             =    0.00 sec. (0.00 ticks)\n",
      "  Sync time (average)   =    0.00 sec.\n",
      "  Wait time (average)   =    0.00 sec.\n",
      "                          ------------\n",
      "Total (root+branch&cut) =    3.03 sec. (5216.25 ticks)\n",
      "3.0719480514526367\n",
      "4.733767986297607\n"
     ]
    }
   ],
   "source": [
    "import time\n",
    "inicio2 = time.time()\n",
    "from docplex.mp.model import Model\n",
    "mdl= Model(\"modelo\")\n",
    "arcos=[(i,j,o,d) for i in range(nodos)for j in range(nodos)for o in range(nodos)for d in range(nodos)]\n",
    "x=mdl.continuous_var_dict(arcos,name=\"x\")\n",
    "arcos2=[(i) for i in range (tamRutas)]\n",
    "y=mdl.binary_var_dict(arcos2,name=\"y\")\n",
    "f=mdl.continuous_var_dict(arcos2,name=\"f\")\n",
    "\n",
    "u= 60\n",
    "m= 30\n",
    "Q= 50\n",
    "alpha=0\n",
    "\n",
    "\n",
    "\n",
    "mdl.minimize(mdl.sum(c[i][j]*x[(i,j,o,d)] for i in range(nodos)for j in range(nodos)for o in range(nodos)for d in range(nodos))+mdl.sum(alpha*(f[(i)]+y[i])for i in range(tamRutas)))\n",
    " \n",
    "\n",
    "    \n",
    "for i in  range(nodos):\n",
    "    for j in range(nodos):\n",
    "        mdl.add_constraint(mdl.sum(x[(i,j,o,d)] for o in range(nodos)for d in range(nodos))<= mdl.sum(r[(k,i,j)]*f[(k)]*u for k in range(tamRutas)))\n",
    "\n",
    "for i in range(nodos):  \n",
    "    for o in range(nodos):\n",
    "        for d in range(nodos):       \n",
    "            mdl.add_constraint((mdl.sum(x[(i,j,o,d) ] for j in range(nodos) )-mdl.sum(x[(j,i,o,d) ] for j in range(nodos) ) )==B2[(o,d,i)])\n",
    "\n",
    "\n",
    "for i in  range(tamRutas):\n",
    "    mdl.add_constraint(f[(i)]<=y[(i)]*10)\n",
    "    \n",
    "mdl.add_constraint(mdl.sum(y[(k)]for k in range(tamRutas))<=m)  \n",
    "mdl.add_constraint(mdl.sum(f[(k)]for k in range(tamRutas))<=Q)   \n",
    "\n",
    "\n",
    "inicio = time.time()\n",
    "solucion=mdl.solve(log_output=True)\n",
    "fin = time.time()\n",
    "fin2 = time.time()\n",
    "print(fin-inicio)\n",
    "print(fin2-inicio2)"
   ]
  },
  {
   "cell_type": "code",
   "execution_count": null,
   "metadata": {},
   "outputs": [],
   "source": [
    "solucion=mdl.solve(log_output=True)  \n",
    "archivo = open(\"aproximacion-Experimento\", \"w\") \n",
    "archivo.write(str(solucion)) \n",
    "archivo.close()\n",
    "#m=10            "
   ]
  },
  {
   "cell_type": "code",
   "execution_count": null,
   "metadata": {},
   "outputs": [],
   "source": [
    "x=0\n",
    "for i in range(tamRutas):\n",
    "    if(f[ (i) ].solution_value>0):\n",
    "        print(\"rutas.append(\",end=\"\")\n",
    "        print(rutas[i],end=\"\")\n",
    "        print(\")\")\n",
    "        x=x+1\n",
    "print(x)        "
   ]
  },
  {
   "cell_type": "code",
   "execution_count": null,
   "metadata": {},
   "outputs": [],
   "source": []
  },
  {
   "cell_type": "code",
   "execution_count": 76,
   "metadata": {},
   "outputs": [
    {
     "name": "stdout",
     "output_type": "stream",
     "text": [
      "(1, 0, 0, 1) 10.0\n",
      "(1, 0, 1, 1) 10.0\n",
      "(1, 1, 0, 1) 10.0\n",
      "(1, 1, 1, 0) 10.0\n"
     ]
    }
   ],
   "source": [
    "\n",
    "\n",
    "      \n",
    "\n",
    "    \n"
   ]
  },
  {
   "cell_type": "code",
   "execution_count": 5,
   "metadata": {},
   "outputs": [
    {
     "name": "stdout",
     "output_type": "stream",
     "text": [
      "Version identifier: 20.1.0.0 | 2020-11-10 | 9bedb6d68\n",
      "CPXPARAM_Read_DataCheck                          1\n",
      "Warning:  No solution found from 1 MIP starts.\n",
      "Retaining values of one MIP start for possible repair.\n",
      "Tried aggregator 1 time.\n",
      "MIP Presolve eliminated 9 rows and 74 columns.\n",
      "Reduced MIP has 88 rows, 214 columns, and 643 nonzeros.\n",
      "Reduced MIP has 11 binaries, 203 generals, 0 SOSs, and 0 indicators.\n",
      "Presolve time = 0.00 sec. (0.29 ticks)\n",
      "Probing time = 0.00 sec. (0.06 ticks)\n",
      "Cover probing fixed 0 vars, tightened 96 bounds.\n",
      "Tried aggregator 1 time.\n",
      "Detecting symmetries...\n",
      "MIP Presolve eliminated 11 rows and 11 columns.\n",
      "Reduced MIP has 77 rows, 203 columns, and 621 nonzeros.\n",
      "Reduced MIP has 11 binaries, 192 generals, 0 SOSs, and 0 indicators.\n",
      "Presolve time = 0.00 sec. (0.43 ticks)\n",
      "Probing time = 0.00 sec. (0.02 ticks)\n",
      "MIP emphasis: balance optimality and feasibility.\n",
      "MIP search method: dynamic search.\n",
      "Parallel mode: deterministic, using up to 24 threads.\n",
      "Root relaxation solution time = 0.00 sec. (0.19 ticks)\n",
      "\n",
      "        Nodes                                         Cuts/\n",
      "   Node  Left     Objective  IInf  Best Integer    Best Bound    ItCnt     Gap\n",
      "\n",
      "      0     0     9600.0000     4                   9600.0000       28         \n",
      "      0     0     9600.0000     4                 Flowcuts: 8       30         \n",
      "*     0+    0                       1.14000e+08     9600.0000            99.99%\n",
      "*     0+    0                         9700.0000     9600.0000             1.03%\n",
      "      0     0        cutoff           9700.0000     9700.0000       30    0.00%\n",
      "Elapsed time = 0.03 sec. (6.23 ticks, tree = 0.01 MB, solutions = 2)\n",
      "\n",
      "Flow cuts applied:  8\n",
      "\n",
      "Root node processing (before b&c):\n",
      "  Real time             =    0.03 sec. (6.24 ticks)\n",
      "Parallel b&c, 24 threads:\n",
      "  Real time             =    0.00 sec. (0.00 ticks)\n",
      "  Sync time (average)   =    0.00 sec.\n",
      "  Wait time (average)   =    0.00 sec.\n",
      "                          ------------\n",
      "Total (root+branch&cut) =    0.03 sec. (6.24 ticks)\n"
     ]
    }
   ],
   "source": [
    "\n"
   ]
  },
  {
   "cell_type": "code",
   "execution_count": 12,
   "metadata": {},
   "outputs": [
    {
     "name": "stdout",
     "output_type": "stream",
     "text": [
      "[1, 2]\n",
      "[0, 3]\n",
      "[0, 2, 3]\n",
      "[0, 1, 3]\n"
     ]
    }
   ],
   "source": [
    "print(rutasmodificadas[6])\n",
    "print(rutasmodificadas[9])\n",
    "print(rutasmodificadas[11])\n",
    "print(rutasmodificadas[13])\n",
    "\n"
   ]
  },
  {
   "cell_type": "code",
   "execution_count": 2,
   "metadata": {},
   "outputs": [
    {
     "name": "stdout",
     "output_type": "stream",
     "text": [
      "[[0, 10, 19, 28, 37, 46, 55, 64], [10, 0, 10, 19, 28, 37, 46, 55], [19, 10, 0, 10, 19, 28, 37, 46], [28, 19, 10, 0, 10, 19, 28, 37], [37, 28, 19, 10, 0, 10, 19, 28], [46, 37, 28, 19, 10, 0, 10, 19], [55, 46, 37, 28, 19, 10, 0, 10], [64, 55, 46, 37, 28, 19, 10, 0]]\n"
     ]
    }
   ],
   "source": [
    "print(c)"
   ]
  },
  {
   "cell_type": "code",
   "execution_count": 43,
   "metadata": {},
   "outputs": [
    {
     "name": "stdout",
     "output_type": "stream",
     "text": [
      "[[0, 10, 20, 30], [40, 0, 50, 60], [70, 80, 0, 90], [100, 110, 120, 0]]\n"
     ]
    }
   ],
   "source": [
    "print(b)\n"
   ]
  },
  {
   "cell_type": "code",
   "execution_count": null,
   "metadata": {},
   "outputs": [],
   "source": []
  }
 ],
 "metadata": {
  "kernelspec": {
   "display_name": "Python 3",
   "language": "python",
   "name": "python3"
  },
  "language_info": {
   "codemirror_mode": {
    "name": "ipython",
    "version": 3
   },
   "file_extension": ".py",
   "mimetype": "text/x-python",
   "name": "python",
   "nbconvert_exporter": "python",
   "pygments_lexer": "ipython3",
   "version": "3.8.5"
  }
 },
 "nbformat": 4,
 "nbformat_minor": 4
}
