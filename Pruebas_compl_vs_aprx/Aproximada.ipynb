{
 "cells": [
  {
   "cell_type": "code",
   "execution_count": 4,
   "metadata": {},
   "outputs": [],
   "source": [
    "from docplex.mp.model import Model\n",
    "import time"
   ]
  },
  {
   "cell_type": "code",
   "execution_count": 5,
   "metadata": {},
   "outputs": [
    {
     "name": "stdout",
     "output_type": "stream",
     "text": [
      "[[0, 50, 50, 50, 50, 50, 50], [50, 0, 50, 50, 50, 50, 50], [50, 50, 0, 50, 50, 50, 50], [50, 50, 50, 0, 50, 50, 50], [50, 50, 50, 50, 0, 50, 50], [50, 50, 50, 50, 50, 0, 50], [50, 50, 50, 50, 50, 50, 0]]\n"
     ]
    }
   ],
   "source": [
    "nodos=7\n",
    "\n",
    "b=[]\n",
    "aux=[]\n",
    "for i in range(nodos):\n",
    "     aux.append(0) \n",
    "for i in range(nodos):\n",
    "     b.append(aux[:])  \n",
    "aux=1        \n",
    "for i in range(nodos):\n",
    "    for j in range(nodos):\n",
    "        if(i != j):\n",
    "            b[i][j]=50\n",
    "            aux=aux+1           \n",
    "c=[]\n",
    "aux=[]\n",
    "for i in range(nodos):\n",
    "     aux.append(0) \n",
    "for i in range(nodos):\n",
    "     c.append(aux[:])  \n",
    "for i in range(nodos):\n",
    "    for j in range(nodos):\n",
    "        if(i != j):\n",
    "            c[i][j]=abs(i-j)*10-abs(i-j)+1 \n",
    "            \n",
    "B2={(o,d,i):0 for o in range(nodos) for d in range(nodos) for i in  range(nodos)}\n",
    "for i in range(nodos):\n",
    "    for j in range(nodos):\n",
    "        B2[i,j,i]=b[i][j]\n",
    "        B2[i,j,j]=-b[i][j]\n",
    "\n",
    "rutas=[(a,b,c,d,e,f,g) for a in range(2)for b in range(2)for c in range(2)for d in range(2)for e in range(2)for f in range(2)for g in range(2)]\n",
    "#rutas=[]\n",
    "#rutas.append((0,1,0,1)) \n",
    "#rutas.append((0,1,1,0)) \n",
    "#rutas.append((1,0,0,1)) \n",
    "#rutas.append((1,0,1,0)) \n",
    "#rutas.append((1,0,1,1)) \n",
    "#rutas.append((1,1,0,1))\n",
    "\n",
    "tamRutas=len(rutas)\n",
    "\n",
    "arcos1=[(k,i,j)for k in range(tamRutas) for i in range( nodos) for j in range(nodos) ]\n",
    "rutasmodificadas=[]\n",
    "\n",
    "rutaaux=[]\n",
    "\n",
    "for i in range(tamRutas):\n",
    "    rutaaux.clear() \n",
    "    for j in range(nodos):\n",
    "        if rutas[i][j] == 1:\n",
    "            rutaaux.append(j)          \n",
    "    rutasmodificadas.append(rutaaux[:])  \n",
    "\n",
    "\n",
    "r={}\n",
    "for i in arcos1:\n",
    "    r[i]=0\n",
    "for i in range(tamRutas):\n",
    "    for j in range(len(rutasmodificadas[i])-1):\n",
    "        r[(i,rutasmodificadas[i][j],rutasmodificadas[i][j+1])]=1\n",
    "        r[(i,rutasmodificadas[i][j+1],rutasmodificadas[i][j])]=1\n",
    "        \n",
    "print(b)"
   ]
  },
  {
   "cell_type": "code",
   "execution_count": 6,
   "metadata": {},
   "outputs": [
    {
     "name": "stdout",
     "output_type": "stream",
     "text": [
      "Version identifier: 20.1.0.0 | 2020-11-10 | 9bedb6d68\n",
      "CPXPARAM_Read_DataCheck                          1\n",
      "Tried aggregator 1 time.\n",
      "MIP Presolve eliminated 15 rows and 359 columns.\n",
      "Reduced MIP has 507 rows, 2298 columns, and 7296 nonzeros.\n",
      "Reduced MIP has 120 binaries, 0 generals, 0 SOSs, and 0 indicators.\n",
      "Presolve time = 0.01 sec. (2.89 ticks)\n",
      "Found incumbent of value 82820.000000 after 0.01 sec. (9.23 ticks)\n",
      "Probing time = 0.00 sec. (3.00 ticks)\n",
      "Tried aggregator 1 time.\n",
      "Detecting symmetries...\n",
      "MIP Presolve eliminated 42 rows and 252 columns.\n",
      "Reduced MIP has 465 rows, 2046 columns, and 6540 nonzeros.\n",
      "Reduced MIP has 120 binaries, 0 generals, 0 SOSs, and 0 indicators.\n",
      "Presolve time = 0.02 sec. (4.08 ticks)\n",
      "Probing time = 0.00 sec. (2.49 ticks)\n",
      "MIP emphasis: balance optimality and feasibility.\n",
      "MIP search method: dynamic search.\n",
      "Parallel mode: deterministic, using up to 24 threads.\n",
      "Root relaxation solution time = 0.01 sec. (3.69 ticks)\n",
      "\n",
      "        Nodes                                         Cuts/\n",
      "   Node  Left     Objective  IInf  Best Integer    Best Bound    ItCnt     Gap\n",
      "\n",
      "*     0+    0                        82820.0000        0.0000           100.00%\n",
      "*     0+    0                        56700.0000        0.0000           100.00%\n",
      "      0     0    55800.0000    12    56700.0000    55800.0000      302    1.59%\n",
      "      0     0        cutoff          56700.0000                    369    0.00%\n",
      "Elapsed time = 0.09 sec. (41.57 ticks, tree = 0.01 MB, solutions = 2)\n",
      "\n",
      "Flow cuts applied:  4\n",
      "Mixed integer rounding cuts applied:  33\n",
      "Gomory fractional cuts applied:  10\n",
      "\n",
      "Root node processing (before b&c):\n",
      "  Real time             =    0.11 sec. (41.70 ticks)\n",
      "Parallel b&c, 24 threads:\n",
      "  Real time             =    0.00 sec. (0.00 ticks)\n",
      "  Sync time (average)   =    0.00 sec.\n",
      "  Wait time (average)   =    0.00 sec.\n",
      "                          ------------\n",
      "Total (root+branch&cut) =    0.11 sec. (41.70 ticks)\n",
      "0.11364889144897461\n"
     ]
    }
   ],
   "source": [
    "\n",
    "from docplex.mp.model import Model\n",
    "mdl= Model(\"modelo\")\n",
    "arcos=[(i,j,o,d) for i in range(nodos)for j in range(nodos)for o in range(nodos)for d in range(nodos)]\n",
    "x=mdl.continuous_var_dict(arcos,name=\"x\")\n",
    "arcos2=[(i) for i in range (tamRutas)]\n",
    "y=mdl.binary_var_dict(arcos2,name=\"y\")\n",
    "f=mdl.continuous_var_dict(arcos2,name=\"f\")\n",
    "\n",
    "\n",
    "u= 20\n",
    "m= 60\n",
    "Q= 50\n",
    "alpha=100\n",
    "\n",
    "\n",
    "\n",
    "\n",
    "mdl.minimize(mdl.sum(c[i][j]*x[(i,j,o,d)] for i in range(nodos)for j in range(nodos)for o in range(nodos)for d in range(nodos))+mdl.sum(alpha*(f[(i)]+y[i])for i in range(tamRutas)))\n",
    " \n",
    "\n",
    "    \n",
    "for i in  range(nodos):\n",
    "    for j in range(nodos):\n",
    "        mdl.add_constraint(mdl.sum(x[(i,j,o,d)] for o in range(nodos)for d in range(nodos))<= mdl.sum(r[(k,i,j)]*f[(k)]*u for k in range(tamRutas)))\n",
    "\n",
    "for i in range(nodos):  \n",
    "    for o in range(nodos):\n",
    "        for d in range(nodos):       \n",
    "            mdl.add_constraint((mdl.sum(x[(i,j,o,d) ] for j in range(nodos) )-mdl.sum(x[(j,i,o,d) ] for j in range(nodos) ) )==B2[(o,d,i)])\n",
    "\n",
    "\n",
    "for i in  range(tamRutas):\n",
    "    mdl.add_constraint(f[(i)]<=y[(i)]*10)\n",
    "    \n",
    "mdl.add_constraint(mdl.sum(y[(k)]for k in range(tamRutas))<=m)  \n",
    "mdl.add_constraint(mdl.sum(f[(k)]for k in range(tamRutas))<=Q)   \n",
    "inicio = time.time()\n",
    "solucion=mdl.solve(log_output=True)\n",
    "fin = time.time()\n",
    "print(fin-inicio)"
   ]
  },
  {
   "cell_type": "code",
   "execution_count": 7,
   "metadata": {},
   "outputs": [
    {
     "name": "stdout",
     "output_type": "stream",
     "text": [
      "Version identifier: 20.1.0.0 | 2020-11-10 | 9bedb6d68\n",
      "CPXPARAM_Read_DataCheck                          1\n",
      "\n",
      "Root node processing (before b&c):\n",
      "  Real time             =    0.00 sec. (0.04 ticks)\n",
      "Parallel b&c, 24 threads:\n",
      "  Real time             =    0.00 sec. (0.00 ticks)\n",
      "  Sync time (average)   =    0.00 sec.\n",
      "  Wait time (average)   =    0.00 sec.\n",
      "                          ------------\n",
      "Total (root+branch&cut) =    0.00 sec. (0.04 ticks)\n"
     ]
    }
   ],
   "source": [
    "solucion=mdl.solve(log_output=True)  \n",
    "archivo = open(\"aproximacion-Experimento\", \"w\") \n",
    "archivo.write(str(solucion)) \n",
    "archivo.close()\n",
    "#m=10            "
   ]
  },
  {
   "cell_type": "code",
   "execution_count": 9,
   "metadata": {},
   "outputs": [
    {
     "name": "stdout",
     "output_type": "stream",
     "text": [
      "rutas.append((1, 0, 0, 0, 1, 0, 1))\n",
      "rutas.append((1, 0, 0, 1, 0, 1, 0))\n",
      "rutas.append((1, 0, 1, 0, 0, 1, 1))\n",
      "rutas.append((1, 0, 1, 1, 0, 0, 1))\n",
      "rutas.append((1, 1, 0, 0, 0, 0, 1))\n",
      "rutas.append((1, 1, 0, 0, 0, 1, 0))\n",
      "rutas.append((1, 1, 0, 0, 1, 0, 0))\n",
      "rutas.append((1, 1, 0, 1, 1, 0, 0))\n",
      "rutas.append((1, 1, 1, 0, 0, 0, 1))\n",
      "rutas.append((1, 1, 1, 0, 1, 1, 1))\n"
     ]
    }
   ],
   "source": [
    "\n",
    "for i in range(tamRutas):\n",
    "    if(f[ (i) ].solution_value>0 and y[ (i) ].solution_value>0):\n",
    "        print(\"rutas.append(\",end=\"\")\n",
    "        print(rutas[i],end=\"\")\n",
    "        print(\")\")"
   ]
  },
  {
   "cell_type": "code",
   "execution_count": null,
   "metadata": {},
   "outputs": [],
   "source": []
  },
  {
   "cell_type": "code",
   "execution_count": 76,
   "metadata": {},
   "outputs": [
    {
     "name": "stdout",
     "output_type": "stream",
     "text": [
      "(1, 0, 0, 1) 10.0\n",
      "(1, 0, 1, 1) 10.0\n",
      "(1, 1, 0, 1) 10.0\n",
      "(1, 1, 1, 0) 10.0\n"
     ]
    }
   ],
   "source": [
    "\n",
    "\n",
    "      \n",
    "\n",
    "    \n"
   ]
  },
  {
   "cell_type": "code",
   "execution_count": 5,
   "metadata": {},
   "outputs": [
    {
     "name": "stdout",
     "output_type": "stream",
     "text": [
      "Version identifier: 20.1.0.0 | 2020-11-10 | 9bedb6d68\n",
      "CPXPARAM_Read_DataCheck                          1\n",
      "Warning:  No solution found from 1 MIP starts.\n",
      "Retaining values of one MIP start for possible repair.\n",
      "Tried aggregator 1 time.\n",
      "MIP Presolve eliminated 9 rows and 74 columns.\n",
      "Reduced MIP has 88 rows, 214 columns, and 643 nonzeros.\n",
      "Reduced MIP has 11 binaries, 203 generals, 0 SOSs, and 0 indicators.\n",
      "Presolve time = 0.00 sec. (0.29 ticks)\n",
      "Probing time = 0.00 sec. (0.06 ticks)\n",
      "Cover probing fixed 0 vars, tightened 96 bounds.\n",
      "Tried aggregator 1 time.\n",
      "Detecting symmetries...\n",
      "MIP Presolve eliminated 11 rows and 11 columns.\n",
      "Reduced MIP has 77 rows, 203 columns, and 621 nonzeros.\n",
      "Reduced MIP has 11 binaries, 192 generals, 0 SOSs, and 0 indicators.\n",
      "Presolve time = 0.00 sec. (0.43 ticks)\n",
      "Probing time = 0.00 sec. (0.02 ticks)\n",
      "MIP emphasis: balance optimality and feasibility.\n",
      "MIP search method: dynamic search.\n",
      "Parallel mode: deterministic, using up to 24 threads.\n",
      "Root relaxation solution time = 0.00 sec. (0.19 ticks)\n",
      "\n",
      "        Nodes                                         Cuts/\n",
      "   Node  Left     Objective  IInf  Best Integer    Best Bound    ItCnt     Gap\n",
      "\n",
      "      0     0     9600.0000     4                   9600.0000       28         \n",
      "      0     0     9600.0000     4                 Flowcuts: 8       30         \n",
      "*     0+    0                       1.14000e+08     9600.0000            99.99%\n",
      "*     0+    0                         9700.0000     9600.0000             1.03%\n",
      "      0     0        cutoff           9700.0000     9700.0000       30    0.00%\n",
      "Elapsed time = 0.03 sec. (6.23 ticks, tree = 0.01 MB, solutions = 2)\n",
      "\n",
      "Flow cuts applied:  8\n",
      "\n",
      "Root node processing (before b&c):\n",
      "  Real time             =    0.03 sec. (6.24 ticks)\n",
      "Parallel b&c, 24 threads:\n",
      "  Real time             =    0.00 sec. (0.00 ticks)\n",
      "  Sync time (average)   =    0.00 sec.\n",
      "  Wait time (average)   =    0.00 sec.\n",
      "                          ------------\n",
      "Total (root+branch&cut) =    0.03 sec. (6.24 ticks)\n"
     ]
    }
   ],
   "source": [
    "\n"
   ]
  },
  {
   "cell_type": "code",
   "execution_count": 12,
   "metadata": {},
   "outputs": [
    {
     "name": "stdout",
     "output_type": "stream",
     "text": [
      "[1, 2]\n",
      "[0, 3]\n",
      "[0, 2, 3]\n",
      "[0, 1, 3]\n"
     ]
    }
   ],
   "source": [
    "print(rutasmodificadas[6])\n",
    "print(rutasmodificadas[9])\n",
    "print(rutasmodificadas[11])\n",
    "print(rutasmodificadas[13])\n",
    "\n"
   ]
  },
  {
   "cell_type": "code",
   "execution_count": 2,
   "metadata": {},
   "outputs": [
    {
     "name": "stdout",
     "output_type": "stream",
     "text": [
      "[[0, 10, 19, 28, 37, 46, 55, 64], [10, 0, 10, 19, 28, 37, 46, 55], [19, 10, 0, 10, 19, 28, 37, 46], [28, 19, 10, 0, 10, 19, 28, 37], [37, 28, 19, 10, 0, 10, 19, 28], [46, 37, 28, 19, 10, 0, 10, 19], [55, 46, 37, 28, 19, 10, 0, 10], [64, 55, 46, 37, 28, 19, 10, 0]]\n"
     ]
    }
   ],
   "source": [
    "print(c)"
   ]
  },
  {
   "cell_type": "code",
   "execution_count": 43,
   "metadata": {},
   "outputs": [
    {
     "name": "stdout",
     "output_type": "stream",
     "text": [
      "[[0, 10, 20, 30], [40, 0, 50, 60], [70, 80, 0, 90], [100, 110, 120, 0]]\n"
     ]
    }
   ],
   "source": [
    "print(b)\n"
   ]
  },
  {
   "cell_type": "code",
   "execution_count": null,
   "metadata": {},
   "outputs": [],
   "source": []
  }
 ],
 "metadata": {
  "kernelspec": {
   "display_name": "Python 3",
   "language": "python",
   "name": "python3"
  },
  "language_info": {
   "codemirror_mode": {
    "name": "ipython",
    "version": 3
   },
   "file_extension": ".py",
   "mimetype": "text/x-python",
   "name": "python",
   "nbconvert_exporter": "python",
   "pygments_lexer": "ipython3",
   "version": "3.8.5"
  }
 },
 "nbformat": 4,
 "nbformat_minor": 4
}
